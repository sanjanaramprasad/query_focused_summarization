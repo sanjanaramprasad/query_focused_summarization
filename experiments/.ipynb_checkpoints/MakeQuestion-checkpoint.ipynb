{
 "cells": [
  {
   "cell_type": "code",
   "execution_count": 1,
   "id": "91272f89-2156-463f-a793-c4d069f27ed9",
   "metadata": {
    "tags": []
   },
   "outputs": [],
   "source": [
    "import wikipediaapi\n",
    "from modeling_gpt import GPTInference"
   ]
  },
  {
   "cell_type": "code",
   "execution_count": 77,
   "id": "94b4512e-9215-41e0-bc85-15fe3fbc592a",
   "metadata": {
    "tags": []
   },
   "outputs": [],
   "source": [
    "def make_sec_content(section_text, sections):\n",
    "    sec_content = section_text\n",
    "    for sec in sections:\n",
    "        title = sec.title\n",
    "        text = sec.text\n",
    "        # print(sec)\n",
    "        sec_content +=  str(sec)\n",
    "    return sec_content\n",
    "\n",
    "def make_held_in_out_sections(page):\n",
    "    leave_out_sec = ['See also', 'External links', 'Bibliography', 'References', 'Notes', 'Further reading']\n",
    "    sections = [each for each in page.sections if each.title not in leave_out_sec]\n",
    "    num_held_out = round(0.2 * len(sections))\n",
    "    titles = [each.title for each in sections]\n",
    "    print(num_held_out, len(sections),titles[:num_held_out], titles[num_held_out:])\n",
    "    held_in_section_content = []\n",
    "    held_out_section_content = []\n",
    "    for sec in sections[:num_held_out]:\n",
    "        sec_content = make_sec_content(sec.text, sec.sections)\n",
    "        held_in_section_content += [sec_content]\n",
    "        \n",
    "    for sec in sections[num_held_out:]:\n",
    "        sec_content = make_sec_content(sec.text, sec.sections)\n",
    "        held_out_section_content += [sec_content]\n",
    "    \n",
    "    return held_in_section_content, held_out_section_content\n",
    "    \n",
    "        "
   ]
  },
  {
   "cell_type": "code",
   "execution_count": 78,
   "id": "4b73aff5-0c3d-498a-b96e-5e9d4cbc5a3c",
   "metadata": {
    "tags": []
   },
   "outputs": [],
   "source": [
    "gpt_inference = GPTInference()\n",
    "def make_questions(sections):\n",
    "    all_questions = []\n",
    "    instruction = 'For the following article, write a general question that can be answered using a summary of the article below'\n",
    "    for section in sections:\n",
    "        prompt = f'{instruction}\\nArticle: {section}\\nQuestion:'\n",
    "        # print(prompt)\n",
    "        question = gpt_inference.get_chatgpt_response(prompt)\n",
    "        all_questions += [question]\n",
    "    return all_questions"
   ]
  },
  {
   "cell_type": "code",
   "execution_count": null,
   "id": "a5c86e56-117e-40b1-8362-5eef2915027d",
   "metadata": {},
   "outputs": [],
   "source": []
  },
  {
   "cell_type": "code",
   "execution_count": 79,
   "id": "06c8fcc8-c83a-4683-981e-5445f2d5c452",
   "metadata": {
    "tags": []
   },
   "outputs": [],
   "source": [
    "wiki_wiki = wikipediaapi.Wikipedia('LLM hallucination', 'en')\n",
    "wiki_pages = ['Michael_Jackson', 'Donald_Trump', 'Elizabeth_II', 'India', 'Barack_Obama']\n",
    "\n"
   ]
  },
  {
   "cell_type": "code",
   "execution_count": 80,
   "id": "2b15fbbf-5234-4f4e-9794-617a9494ba32",
   "metadata": {
    "tags": []
   },
   "outputs": [],
   "source": [
    "def get_page_held_in_out_questions(page_name):\n",
    "    page = wiki_wiki.page(page_name)\n",
    "    print(\"Page - Exists: %s\" % page.exists())\n",
    "    held_in_section_content, held_out_section_content = make_held_in_out_sections(page)\n",
    "    article = '\\n'.join(held_in_section_content)\n",
    "    held_out_article = '\\n'.join(held_out_section_content)\n",
    "    \n",
    "    held_in_sec_questions = make_questions(held_in_section_content)\n",
    "    held_out_sec_questions = make_questions(held_out_section_content)\n",
    "    \n",
    "    return article, held_out_article, held_in_sec_questions, held_out_sec_questions"
   ]
  },
  {
   "cell_type": "code",
   "execution_count": 81,
   "id": "9bd204f4-7e23-46b1-b1f2-41d1f46abfee",
   "metadata": {
    "tags": []
   },
   "outputs": [
    {
     "name": "stdout",
     "output_type": "stream",
     "text": [
      "hash value: 7f10d00ad5a784133a11ebcf6875f441\n"
     ]
    }
   ],
   "source": [
    "import random\n",
    "\n",
    "hash = random.getrandbits(128)\n",
    "\n",
    "print(\"hash value: %032x\" % hash)"
   ]
  },
  {
   "cell_type": "code",
   "execution_count": 82,
   "id": "ff9381d8-c4b6-4fd0-86b1-d1abe5090a13",
   "metadata": {
    "tags": []
   },
   "outputs": [
    {
     "name": "stdout",
     "output_type": "stream",
     "text": [
      "Michael_Jackson\n",
      "Page - Exists: True\n",
      "2 10 ['Life and career', 'Death'] ['Legacy', 'Philanthropy and humanitarian work', 'Artistry', 'Honors and awards', 'Earnings', 'Discography', 'Filmography', 'Tours']\n",
      "Donald_Trump\n",
      "Page - Exists: True\n",
      "1 7 ['Personal life'] ['Business career', 'Media career', 'Political career', 'Presidency (2017–2021)', 'Post-presidency (2021–present)', 'Public image']\n",
      "Elizabeth_II\n",
      "Page - Exists: True\n",
      "2 8 ['Early life', 'Heir presumptive'] ['Reign', 'Death', 'Legacy', 'Titles, styles, honours, and arms', 'Issue', 'Ancestry']\n",
      "India\n",
      "Page - Exists: True\n",
      "2 9 ['Etymology', 'History'] ['Geography', 'Biodiversity', 'Politics and government', 'Foreign, economic and strategic relations', 'Economy', 'Demographics, languages and religion', 'Culture']\n",
      "Barack_Obama\n",
      "Page - Exists: True\n",
      "2 8 ['Early life and career', 'Legal career'] ['Legislative career', 'Presidential campaigns', 'Presidency (2009–2017)', 'Cultural and political image', 'Post-presidency (2017–present)', 'Legacy']\n"
     ]
    }
   ],
   "source": [
    "import time\n",
    "df_dict = {'Article': [],\n",
    "           'Held_Out_Article': [],\n",
    "          'Query': [],\n",
    "          'Faithful_Query':[],\n",
    "          'Wikipage': [],\n",
    "          \n",
    "          }\n",
    "\n",
    "for wiki_page in wiki_pages:\n",
    "    print(wiki_page)\n",
    "    article, held_out_article, faithful_questions, out_of_article_questions = get_page_held_in_out_questions(wiki_page)\n",
    "    page_url =  wiki_wiki.page(wiki_page).fullurl\n",
    "    df_dict['Article'] += [article] * len(faithful_questions + out_of_article_questions)\n",
    "    df_dict['Held_Out_Article'] += [held_out_article]* len(faithful_questions + out_of_article_questions)\n",
    "    df_dict['Query'] += faithful_questions + out_of_article_questions\n",
    "    df_dict['Faithful_Query'] += ['yes'] * len(faithful_questions)\n",
    "    df_dict['Faithful_Query'] += ['no'] * len(out_of_article_questions)\n",
    "    df_dict['Wikipage'] += [page_url] * len(faithful_questions + out_of_article_questions)\n",
    "    time.sleep(4)\n"
   ]
  },
  {
   "cell_type": "code",
   "execution_count": 71,
   "id": "bdfd3f79-236e-47ba-be06-6813a2ae3162",
   "metadata": {
    "tags": []
   },
   "outputs": [],
   "source": [
    "pg = wiki_wiki.page('Michael_Jackson')\n",
    "leave_out_sec = ['See also', 'External links', 'Bibliography']\n",
    "# [each.title for each in pg.sections if each.text and each.title not in leave_out_sec]"
   ]
  },
  {
   "cell_type": "code",
   "execution_count": null,
   "id": "a1849f28-2748-4c26-968d-110cbfb7c021",
   "metadata": {
    "tags": []
   },
   "outputs": [],
   "source": [
    "df"
   ]
  },
  {
   "cell_type": "code",
   "execution_count": 13,
   "id": "26894a0d-1525-46bb-a82a-7a7bda765e38",
   "metadata": {
    "tags": []
   },
   "outputs": [],
   "source": [
    "# df_dict"
   ]
  },
  {
   "cell_type": "code",
   "execution_count": 83,
   "id": "7a6747c1-16f1-44a0-b95c-00c82c906a73",
   "metadata": {
    "tags": []
   },
   "outputs": [],
   "source": [
    "import pandas as pd\n",
    "df_dict['id'] = [random.getrandbits(128) for i in range(0, len(df_dict['Article']))]\n",
    "df_dict['system_id'] = ['gpt3.5'] * len(df_dict['Article'])\n",
    "df = pd.DataFrame(df_dict)"
   ]
  },
  {
   "cell_type": "code",
   "execution_count": 85,
   "id": "f11786d3-36bc-49f0-a0d6-d220dd0ebdd2",
   "metadata": {
    "tags": []
   },
   "outputs": [],
   "source": [
    "df.to_csv('/home/ramprasad.sa/qf_sd_summarization/datasets/postprocessed/question_article_pair.csv')"
   ]
  },
  {
   "cell_type": "code",
   "execution_count": 86,
   "id": "b731a053-76e5-48ce-99ef-26221226eb50",
   "metadata": {
    "tags": []
   },
   "outputs": [
    {
     "data": {
      "text/plain": [
       "33"
      ]
     },
     "execution_count": 86,
     "metadata": {},
     "output_type": "execute_result"
    }
   ],
   "source": [
    "len(df[df['Faithful_Query'] == 'no'])"
   ]
  },
  {
   "cell_type": "code",
   "execution_count": null,
   "id": "e6909d3d-9c1c-4c02-89ff-31f106a82773",
   "metadata": {},
   "outputs": [],
   "source": []
  },
  {
   "cell_type": "code",
   "execution_count": null,
   "id": "973f12bd-bd2a-448e-99c9-745c63018839",
   "metadata": {},
   "outputs": [],
   "source": []
  }
 ],
 "metadata": {
  "kernelspec": {
   "display_name": "llm",
   "language": "python",
   "name": "llm"
  },
  "language_info": {
   "codemirror_mode": {
    "name": "ipython",
    "version": 3
   },
   "file_extension": ".py",
   "mimetype": "text/x-python",
   "name": "python",
   "nbconvert_exporter": "python",
   "pygments_lexer": "ipython3",
   "version": "3.8.16"
  }
 },
 "nbformat": 4,
 "nbformat_minor": 5
}
