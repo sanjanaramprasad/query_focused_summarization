{
 "cells": [
  {
   "cell_type": "code",
   "execution_count": null,
   "id": "fdd8c29d-80db-4071-bada-6f945a4d3524",
   "metadata": {},
   "outputs": [
    {
     "name": "stderr",
     "output_type": "stream",
     "text": [
      "/home/ramprasad.sa/.local/lib/python3.8/site-packages/tqdm/auto.py:21: TqdmWarning: IProgress not found. Please update jupyter and ipywidgets. See https://ipywidgets.readthedocs.io/en/stable/user_install.html\n",
      "  from .autonotebook import tqdm as notebook_tqdm\n"
     ]
    }
   ],
   "source": [
    "from datasets import load_dataset\n",
    "\n",
    "dataset = load_dataset(\"natural_questions\", split = \"validation\", cache_dir='/scratch/ramprasad.sa/huggingface_datasets')"
   ]
  },
  {
   "cell_type": "code",
   "execution_count": null,
   "id": "3b330ae6-6263-4f95-960d-3bdd9a08b4dc",
   "metadata": {},
   "outputs": [],
   "source": [
    "dataset"
   ]
  },
  {
   "cell_type": "code",
   "execution_count": null,
   "id": "63bac59e-d869-45a9-83c6-c33db8b0fc21",
   "metadata": {},
   "outputs": [],
   "source": [
    "annotations = dataset['annotations'][0]\n",
    "document = dataset['document'][0]\n",
    "\n"
   ]
  },
  {
   "cell_type": "code",
   "execution_count": 59,
   "id": "4ed4690a-1f13-4c3d-8831-9407c293b306",
   "metadata": {},
   "outputs": [],
   "source": [
    "tokens = document['tokens']['token']"
   ]
  },
  {
   "cell_type": "code",
   "execution_count": 63,
   "id": "fc0b04d7-8a86-4291-b795-cd293f8f6297",
   "metadata": {},
   "outputs": [
    {
     "data": {
      "text/plain": [
       "'what purpose did seasonal monsoon winds have on trade'"
      ]
     },
     "execution_count": 63,
     "metadata": {},
     "output_type": "execute_result"
    }
   ],
   "source": [
    "question = dataset['question'][0]\n",
    "question['text']"
   ]
  },
  {
   "cell_type": "code",
   "execution_count": null,
   "id": "d4e62c3e-22c5-42ca-aea1-9ff4365a06d9",
   "metadata": {},
   "outputs": [],
   "source": []
  },
  {
   "cell_type": "code",
   "execution_count": null,
   "id": "f52bd13c-0fc9-417b-b68d-994d24b2f244",
   "metadata": {},
   "outputs": [],
   "source": []
  },
  {
   "cell_type": "code",
   "execution_count": null,
   "id": "35961690-474a-411a-bfc5-3d8fdb412616",
   "metadata": {},
   "outputs": [],
   "source": []
  },
  {
   "cell_type": "code",
   "execution_count": 70,
   "id": "29943ab1-470a-4c7f-b0d4-72607c104f3e",
   "metadata": {},
   "outputs": [
    {
     "data": {
      "text/plain": [
       "-1"
      ]
     },
     "execution_count": 70,
     "metadata": {},
     "output_type": "execute_result"
    }
   ],
   "source": [
    "from collections import Counter\n",
    "# annotations\n",
    "\n",
    "long_answer_candidates = [each['candidate_index'] for each in annotations['long_answer']]\n",
    "long_answer_index = Counter(long_answer_candidates).most_common()[0][0]\n",
    "long_answer_index"
   ]
  },
  {
   "cell_type": "code",
   "execution_count": 69,
   "id": "29db31c9-604d-4344-b9e3-6edf3aedb46c",
   "metadata": {},
   "outputs": [
    {
     "data": {
      "text/plain": [
       "{'id': ['4323936797498927989',\n",
       "  '13037645000009169623',\n",
       "  '4439059471919323171',\n",
       "  '15051359051424338858',\n",
       "  '5332861748513580580'],\n",
       " 'long_answer': [{'candidate_index': -1,\n",
       "   'end_byte': -1,\n",
       "   'end_token': -1,\n",
       "   'start_byte': -1,\n",
       "   'start_token': -1},\n",
       "  {'candidate_index': -1,\n",
       "   'end_byte': -1,\n",
       "   'end_token': -1,\n",
       "   'start_byte': -1,\n",
       "   'start_token': -1},\n",
       "  {'candidate_index': -1,\n",
       "   'end_byte': -1,\n",
       "   'end_token': -1,\n",
       "   'start_byte': -1,\n",
       "   'start_token': -1},\n",
       "  {'candidate_index': 0,\n",
       "   'end_byte': 44666,\n",
       "   'end_token': 161,\n",
       "   'start_byte': 43178,\n",
       "   'start_token': 44},\n",
       "  {'candidate_index': 0,\n",
       "   'end_byte': 44666,\n",
       "   'end_token': 161,\n",
       "   'start_byte': 43178,\n",
       "   'start_token': 44}],\n",
       " 'short_answers': [{'end_byte': [],\n",
       "   'end_token': [],\n",
       "   'start_byte': [],\n",
       "   'start_token': [],\n",
       "   'text': []},\n",
       "  {'end_byte': [],\n",
       "   'end_token': [],\n",
       "   'start_byte': [],\n",
       "   'start_token': [],\n",
       "   'text': []},\n",
       "  {'end_byte': [],\n",
       "   'end_token': [],\n",
       "   'start_byte': [],\n",
       "   'start_token': [],\n",
       "   'text': []},\n",
       "  {'end_byte': [44657],\n",
       "   'end_token': [159],\n",
       "   'start_byte': [44318],\n",
       "   'start_token': [140],\n",
       "   'text': ['enabled European empire expansion into the Americas and trade routes to become established across the Atlantic and Pacific oceans']},\n",
       "  {'end_byte': [],\n",
       "   'end_token': [],\n",
       "   'start_byte': [],\n",
       "   'start_token': [],\n",
       "   'text': []}],\n",
       " 'yes_no_answer': [-1, -1, -1, -1, -1]}"
      ]
     },
     "execution_count": 69,
     "metadata": {},
     "output_type": "execute_result"
    }
   ],
   "source": []
  },
  {
   "cell_type": "code",
   "execution_count": null,
   "id": "a98ad2d1-955a-41d9-82b8-af589bbc914f",
   "metadata": {},
   "outputs": [],
   "source": []
  }
 ],
 "metadata": {
  "kernelspec": {
   "display_name": "qfs",
   "language": "python",
   "name": "qfs"
  },
  "language_info": {
   "codemirror_mode": {
    "name": "ipython",
    "version": 3
   },
   "file_extension": ".py",
   "mimetype": "text/x-python",
   "name": "python",
   "nbconvert_exporter": "python",
   "pygments_lexer": "ipython3",
   "version": "3.8.18"
  }
 },
 "nbformat": 4,
 "nbformat_minor": 5
}
