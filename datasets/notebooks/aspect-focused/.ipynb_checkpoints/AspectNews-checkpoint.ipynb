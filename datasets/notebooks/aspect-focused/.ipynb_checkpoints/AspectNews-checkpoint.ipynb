{
 "cells": [
  {
   "cell_type": "code",
   "execution_count": 1,
   "id": "0858327f-ada5-4bc0-ab66-d16733355cc7",
   "metadata": {
    "tags": []
   },
   "outputs": [],
   "source": [
    "import pandas as pd"
   ]
  },
  {
   "cell_type": "code",
   "execution_count": 87,
   "id": "e93c787c-1312-4fc9-84e9-6470a3f9d87e",
   "metadata": {
    "tags": []
   },
   "outputs": [],
   "source": [
    "filename_aspect_map = {\n",
    "    'fraud_100_penalty.txt': 'penalty or consequences for the fraudster, or for others',\n",
    "    'fraud_100_nature.txt': 'nature of the fraud: the amount of money taken, benefits for the fraudster, and how the fraud worked',\n",
    "    'eq_100_geo.txt': 'geography, region, or location',\n",
    "    'eq_100_rescue.txt': 'recovery and aid efforts (death toll and injuries, foreign/domestic government assistance, impact on survivors)',\n",
    "    \n",
    "    \n",
    "\n",
    "}\n",
    "\n",
    "def read_annotations(filepath, filename):\n",
    "    with open(f'{filepath}/{filename}', 'r') as fp:\n",
    "        all_lines = fp.readlines()\n",
    "        annotations = ''.join(all_lines).split('\\n\\n\\n')\n",
    "    prompt =  filename_aspect_map[filename]\n",
    "    return annotations, prompt\n",
    "\n",
    "def get_article_summaries(annotations):\n",
    "    articles = []\n",
    "    reference_summaries = []\n",
    "    for example in annotations:\n",
    "        article = []\n",
    "        all_sentences = []\n",
    "        for sentence in example.split('\\n'):\n",
    "            if 'Annotator' in sentence:\n",
    "                annotations = sentence.split('Sentences')[1].split(',')\n",
    "                sentences_marked = []\n",
    "                for each_ann in annotations:\n",
    "                    sentence_num = eval(re.findall('^.*?(\\d+)', each_ann)[0])\n",
    "                    sentences_marked.append(sentence_num)\n",
    "                all_sentences += sentences_marked \n",
    "\n",
    "            else:\n",
    "                sentence = ' '.join(sentence.split(':')[1:]).strip()\n",
    "                article.append(sentence)\n",
    "        reference_summ_idx = set([each for each in all_sentences if all_sentences.count(each) >= 2])\n",
    "        # print(reference_summ_idx)\n",
    "        reference_summ = [article[idx] for idx in reference_summ_idx]\n",
    "\n",
    "        articles += ['\\n'.join(article)]\n",
    "        reference_summaries += ['\\n'.join(reference_summ)]\n",
    "    return articles, reference_summaries\n",
    "    \n",
    "\n"
   ]
  },
  {
   "cell_type": "code",
   "execution_count": 89,
   "id": "f0f9f8e6-5926-4397-b7f3-31d4bed74a8a",
   "metadata": {
    "tags": []
   },
   "outputs": [],
   "source": [
    "filepath = '/work/frink/ramprasad.sa/aosumm/data'\n",
    "filename = 'fraud_100_penalty.txt'\n",
    "annotations, prompt = read_annotations(filepath, filename)\n",
    "articles_fraud_pen, reference_summaries_fraud_pen = get_article_summaries(annotations)"
   ]
  },
  {
   "cell_type": "code",
   "execution_count": 90,
   "id": "1773df8f-ed80-479e-bfc4-cbeb543285f8",
   "metadata": {},
   "outputs": [],
   "source": [
    "filepath = '/work/frink/ramprasad.sa/aosumm/data'\n",
    "filename = 'fraud_100_nature.txt'\n",
    "annotations, prompt = read_annotations(filepath, filename)\n",
    "articles_fraud_nat, reference_summaries_fraud_nat = get_article_summaries(annotations)"
   ]
  },
  {
   "cell_type": "code",
   "execution_count": null,
   "id": "27033dc1-c1bd-4f5b-9411-81c6ea2ae6ce",
   "metadata": {},
   "outputs": [],
   "source": [
    "filepath = '/work/frink/ramprasad.sa/aosumm/data'\n",
    "filename = 'fraud_100_nature.txt'\n",
    "annotations, prompt = read_annotations(filepath, filename)\n",
    "articles_fraud_nat, reference_summaries_fraud_nat = get_article_summaries(annotations)"
   ]
  }
 ],
 "metadata": {
  "kernelspec": {
   "display_name": "qfs",
   "language": "python",
   "name": "qfs"
  },
  "language_info": {
   "codemirror_mode": {
    "name": "ipython",
    "version": 3
   },
   "file_extension": ".py",
   "mimetype": "text/x-python",
   "name": "python",
   "nbconvert_exporter": "python",
   "pygments_lexer": "ipython3",
   "version": "3.8.18"
  }
 },
 "nbformat": 4,
 "nbformat_minor": 5
}
