{
 "cells": [
  {
   "cell_type": "code",
   "execution_count": 9,
   "id": "295cc0cb-24cf-4024-9aed-5fb14614e817",
   "metadata": {},
   "outputs": [],
   "source": [
    "from datasets import load_dataset\n",
    "\n",
    "dataset = load_dataset(\"kqsong/OASum\", split = \"test\", cache_dir='/scratch/ramprasad.sa/huggingface_datasets')"
   ]
  },
  {
   "cell_type": "code",
   "execution_count": 10,
   "id": "1696475d-a414-421d-bc5e-fa6830209598",
   "metadata": {},
   "outputs": [
    {
     "data": {
      "text/plain": [
       "dict_keys(['title', 'document', 'aspect', 'aspect_sents', 'summary'])"
      ]
     },
     "execution_count": 10,
     "metadata": {},
     "output_type": "execute_result"
    }
   ],
   "source": [
    "dataset[0].keys()"
   ]
  },
  {
   "cell_type": "code",
   "execution_count": 16,
   "id": "0c9ffdab-107c-4aec-a8b4-616c1af0c5f8",
   "metadata": {},
   "outputs": [],
   "source": [
    "import pandas as pd\n",
    "import random \n",
    "from tqdm import tqdm \n",
    "def make_oasumm_data():\n",
    "    dataset = load_dataset(\"kqsong/OASum\", split = \"test\", cache_dir='/scratch/ramprasad.sa/huggingface_datasets')\n",
    "    df_processed = {\n",
    "        'id': [],\n",
    "        'Title': [],\n",
    "        'Article_OG': [],\n",
    "        'Article': [],\n",
    "        'Aspect': [],\n",
    "        'Aspect_Sents': [],\n",
    "        'Query': [],\n",
    "        'Reference': [],\n",
    "        'Faithful_Query': [],\n",
    "        \n",
    "    }\n",
    "    for datap in tqdm(dataset):\n",
    "        id = random.getrandbits(128)\n",
    "        title = datap['title']\n",
    "        doc = datap['document']\n",
    "        asp_sents_idx = datap['aspect_sents']\n",
    "        asp = datap['aspect']\n",
    "        summ = datap['summary']\n",
    "        \n",
    "        doc_wo_aspect_sents = [each for idx, each in enumerate(doc) if idx not in asp_sents_idx]\n",
    "        asp_sents = [doc[idx] for idx in asp_sents_idx]\n",
    "        aspect_query = f'Summarize the {asp} of {title}'\n",
    "        \n",
    "        df_processed['id'] += [id]\n",
    "        df_processed['Title'] += [title]\n",
    "        df_processed['Article_OG'] += [' '.join(doc)]\n",
    "        df_processed['Article'] += [' '.join(doc_wo_aspect_sents)]\n",
    "        df_processed['Aspect'] += [asp]\n",
    "        df_processed['Aspect_Sents'] += [' '.join(asp_sents)]\n",
    "        df_processed['Query'] += [aspect_query]\n",
    "        df_processed['Reference'] += [' '.join(summ)]\n",
    "        df_processed['Faithful_Query']+= ['no']\n",
    "        \n",
    "    return pd.DataFrame(df_processed)\n",
    "        "
   ]
  },
  {
   "cell_type": "code",
   "execution_count": 17,
   "id": "dc36a0da-d234-4ff0-a97f-1ec3ab49b685",
   "metadata": {},
   "outputs": [
    {
     "name": "stderr",
     "output_type": "stream",
     "text": [
      "100%|██████████| 112005/112005 [00:34<00:00, 3222.65it/s]\n"
     ]
    }
   ],
   "source": [
    "df_oasumm = make_oasumm_data()\n",
    "\n"
   ]
  },
  {
   "cell_type": "code",
   "execution_count": 18,
   "id": "e027f6fa-d227-44de-8b3b-dd1623314f0c",
   "metadata": {},
   "outputs": [
    {
     "data": {
      "text/html": [
       "<div>\n",
       "<style scoped>\n",
       "    .dataframe tbody tr th:only-of-type {\n",
       "        vertical-align: middle;\n",
       "    }\n",
       "\n",
       "    .dataframe tbody tr th {\n",
       "        vertical-align: top;\n",
       "    }\n",
       "\n",
       "    .dataframe thead th {\n",
       "        text-align: right;\n",
       "    }\n",
       "</style>\n",
       "<table border=\"1\" class=\"dataframe\">\n",
       "  <thead>\n",
       "    <tr style=\"text-align: right;\">\n",
       "      <th></th>\n",
       "      <th>id</th>\n",
       "      <th>Title</th>\n",
       "      <th>Article_OG</th>\n",
       "      <th>Article</th>\n",
       "      <th>Aspect</th>\n",
       "      <th>Aspect_Sents</th>\n",
       "      <th>Query</th>\n",
       "      <th>Reference</th>\n",
       "      <th>Faithful_Query</th>\n",
       "    </tr>\n",
       "  </thead>\n",
       "  <tbody>\n",
       "    <tr>\n",
       "      <th>0</th>\n",
       "      <td>24256940101438506901381621671727034209</td>\n",
       "      <td>Cauchy elastic material</td>\n",
       "      <td>Formally, a material is said to be Cauchy-elas...</td>\n",
       "      <td>For an isotropic material the Cauchy stress te...</td>\n",
       "      <td>Mathematical definition</td>\n",
       "      <td>Formally, a material is said to be Cauchy-elas...</td>\n",
       "      <td>Summarize the Mathematical definition of Cauch...</td>\n",
       "      <td>Finally, a Cauchy-elastic material must satisf...</td>\n",
       "      <td>no</td>\n",
       "    </tr>\n",
       "    <tr>\n",
       "      <th>1</th>\n",
       "      <td>208739999386664684703659817589895092784</td>\n",
       "      <td>Cauchy elastic material</td>\n",
       "      <td>Formally, a material is said to be Cauchy-elas...</td>\n",
       "      <td>Formally, a material is said to be Cauchy-elas...</td>\n",
       "      <td>Non-conservative materials</td>\n",
       "      <td>Even though the stress in a Cauchy-elastic mat...</td>\n",
       "      <td>Summarize the Non-conservative materials of Ca...</td>\n",
       "      <td>A Cauchy-elastic material is also called a sim...</td>\n",
       "      <td>no</td>\n",
       "    </tr>\n",
       "    <tr>\n",
       "      <th>2</th>\n",
       "      <td>46697146211713115688501056885404503140</td>\n",
       "      <td>Comic LO</td>\n",
       "      <td>When first published, Comic LO helped trigger ...</td>\n",
       "      <td></td>\n",
       "      <td>History</td>\n",
       "      <td>When first published, Comic LO helped trigger ...</td>\n",
       "      <td>Summarize the History of Comic LO</td>\n",
       "      <td>is a Japanese \"lolicon\"-focused erotic manga m...</td>\n",
       "      <td>no</td>\n",
       "    </tr>\n",
       "    <tr>\n",
       "      <th>3</th>\n",
       "      <td>76983386080562055217023388263327970432</td>\n",
       "      <td>Druid of Colchester</td>\n",
       "      <td>The grave was discovered by archaeologists in ...</td>\n",
       "      <td>The grave was discovered by archaeologists in ...</td>\n",
       "      <td>Artifacts</td>\n",
       "      <td>In the wooden chambered burial site, archaeolo...</td>\n",
       "      <td>Summarize the Artifacts of Druid of Colchester</td>\n",
       "      <td>The person whose cremated remains were buried ...</td>\n",
       "      <td>no</td>\n",
       "    </tr>\n",
       "    <tr>\n",
       "      <th>4</th>\n",
       "      <td>122421538055764622262442344867864865497</td>\n",
       "      <td>Maeve Fort</td>\n",
       "      <td>Born on 19 November 1940 in Liverpool, Fort wa...</td>\n",
       "      <td>Born on 19 November 1940 in Liverpool, Fort wa...</td>\n",
       "      <td>Foreign Office</td>\n",
       "      <td>Fort decided to apply to join the Foreign Offi...</td>\n",
       "      <td>Summarize the Foreign Office of Maeve Fort</td>\n",
       "      <td>During her posting as the United Kingdom's Hig...</td>\n",
       "      <td>no</td>\n",
       "    </tr>\n",
       "  </tbody>\n",
       "</table>\n",
       "</div>"
      ],
      "text/plain": [
       "                                        id                    Title  \\\n",
       "0   24256940101438506901381621671727034209  Cauchy elastic material   \n",
       "1  208739999386664684703659817589895092784  Cauchy elastic material   \n",
       "2   46697146211713115688501056885404503140                 Comic LO   \n",
       "3   76983386080562055217023388263327970432      Druid of Colchester   \n",
       "4  122421538055764622262442344867864865497               Maeve Fort   \n",
       "\n",
       "                                          Article_OG  \\\n",
       "0  Formally, a material is said to be Cauchy-elas...   \n",
       "1  Formally, a material is said to be Cauchy-elas...   \n",
       "2  When first published, Comic LO helped trigger ...   \n",
       "3  The grave was discovered by archaeologists in ...   \n",
       "4  Born on 19 November 1940 in Liverpool, Fort wa...   \n",
       "\n",
       "                                             Article  \\\n",
       "0  For an isotropic material the Cauchy stress te...   \n",
       "1  Formally, a material is said to be Cauchy-elas...   \n",
       "2                                                      \n",
       "3  The grave was discovered by archaeologists in ...   \n",
       "4  Born on 19 November 1940 in Liverpool, Fort wa...   \n",
       "\n",
       "                       Aspect  \\\n",
       "0     Mathematical definition   \n",
       "1  Non-conservative materials   \n",
       "2                     History   \n",
       "3                   Artifacts   \n",
       "4              Foreign Office   \n",
       "\n",
       "                                        Aspect_Sents  \\\n",
       "0  Formally, a material is said to be Cauchy-elas...   \n",
       "1  Even though the stress in a Cauchy-elastic mat...   \n",
       "2  When first published, Comic LO helped trigger ...   \n",
       "3  In the wooden chambered burial site, archaeolo...   \n",
       "4  Fort decided to apply to join the Foreign Offi...   \n",
       "\n",
       "                                               Query  \\\n",
       "0  Summarize the Mathematical definition of Cauch...   \n",
       "1  Summarize the Non-conservative materials of Ca...   \n",
       "2                  Summarize the History of Comic LO   \n",
       "3     Summarize the Artifacts of Druid of Colchester   \n",
       "4         Summarize the Foreign Office of Maeve Fort   \n",
       "\n",
       "                                           Reference Faithful_Query  \n",
       "0  Finally, a Cauchy-elastic material must satisf...             no  \n",
       "1  A Cauchy-elastic material is also called a sim...             no  \n",
       "2  is a Japanese \"lolicon\"-focused erotic manga m...             no  \n",
       "3  The person whose cremated remains were buried ...             no  \n",
       "4  During her posting as the United Kingdom's Hig...             no  "
      ]
     },
     "execution_count": 18,
     "metadata": {},
     "output_type": "execute_result"
    }
   ],
   "source": [
    "df_oasumm.head()"
   ]
  },
  {
   "cell_type": "code",
   "execution_count": null,
   "id": "9f5f5183-7354-4d4c-9486-30ac3b47070d",
   "metadata": {},
   "outputs": [],
   "source": []
  },
  {
   "cell_type": "code",
   "execution_count": 19,
   "id": "7add016a-a3fd-42f5-96e0-177bfa5ec5a4",
   "metadata": {},
   "outputs": [],
   "source": [
    "df_oasumm.to_csv('/home/ramprasad.sa/qf_sd_summarization/datasets/postprocessed/aspect_focused/oasumm.csv')"
   ]
  },
  {
   "cell_type": "code",
   "execution_count": null,
   "id": "37fca55b-5572-484b-a7df-59fa793d8076",
   "metadata": {},
   "outputs": [],
   "source": []
  }
 ],
 "metadata": {
  "kernelspec": {
   "display_name": "qfs",
   "language": "python",
   "name": "qfs"
  },
  "language_info": {
   "codemirror_mode": {
    "name": "ipython",
    "version": 3
   },
   "file_extension": ".py",
   "mimetype": "text/x-python",
   "name": "python",
   "nbconvert_exporter": "python",
   "pygments_lexer": "ipython3",
   "version": "3.8.18"
  }
 },
 "nbformat": 4,
 "nbformat_minor": 5
}
