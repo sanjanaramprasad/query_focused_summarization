{
 "cells": [
  {
   "cell_type": "code",
   "execution_count": 42,
   "id": "8753f984-836d-49b9-b498-cf621fc2dbca",
   "metadata": {
    "tags": []
   },
   "outputs": [],
   "source": [
    "import pandas as pd\n"
   ]
  },
  {
   "cell_type": "code",
   "execution_count": 102,
   "id": "29df74c6-b250-4354-a1c1-3e6be4ff4f22",
   "metadata": {
    "tags": []
   },
   "outputs": [],
   "source": [
    "def read_test(path=\"NEWTS_test_600.csv\"):\n",
    "    out = pd.read_csv(path, encoding='utf-8', index_col=[0])\n",
    "    # assert(len(out) == 600)\n",
    "    return out"
   ]
  },
  {
   "cell_type": "code",
   "execution_count": 103,
   "id": "e1d04737-7b99-46c5-9e5e-3530fcc7ee34",
   "metadata": {
    "tags": []
   },
   "outputs": [
    {
     "data": {
      "text/html": [
       "<div>\n",
       "<style scoped>\n",
       "    .dataframe tbody tr th:only-of-type {\n",
       "        vertical-align: middle;\n",
       "    }\n",
       "\n",
       "    .dataframe tbody tr th {\n",
       "        vertical-align: top;\n",
       "    }\n",
       "\n",
       "    .dataframe thead th {\n",
       "        text-align: right;\n",
       "    }\n",
       "</style>\n",
       "<table border=\"1\" class=\"dataframe\">\n",
       "  <thead>\n",
       "    <tr style=\"text-align: right;\">\n",
       "      <th></th>\n",
       "      <th>AssignmentId</th>\n",
       "      <th>docId</th>\n",
       "      <th>article</th>\n",
       "      <th>tid1</th>\n",
       "      <th>tid2</th>\n",
       "      <th>words1</th>\n",
       "      <th>words2</th>\n",
       "      <th>phrases1</th>\n",
       "      <th>phrases2</th>\n",
       "      <th>sentences1</th>\n",
       "      <th>sentences2</th>\n",
       "      <th>summary1</th>\n",
       "      <th>summary2</th>\n",
       "    </tr>\n",
       "  </thead>\n",
       "  <tbody>\n",
       "    <tr>\n",
       "      <th>0</th>\n",
       "      <td>3EG49X351WE8VLP4S0TIYZF3V476X2</td>\n",
       "      <td>094372190d52acbce61a73ec16b2217d1a60276f</td>\n",
       "      <td>The president of the World Bank on Saturday wa...</td>\n",
       "      <td>175</td>\n",
       "      <td>110</td>\n",
       "      <td>house, committee, congress, senate, republican...</td>\n",
       "      <td>billion, figures, economy, global, growth, eco...</td>\n",
       "      <td>senate and congress, congressional pressure, y...</td>\n",
       "      <td>economic growth, global growth, billion dollar...</td>\n",
       "      <td>This topic is about the senate and congress, c...</td>\n",
       "      <td>This topic is about economic growth involving ...</td>\n",
       "      <td>The leader of the World Bank urged the US to t...</td>\n",
       "      <td>The US economy will be a driving factor in the...</td>\n",
       "    </tr>\n",
       "    <tr>\n",
       "      <th>1</th>\n",
       "      <td>3DOCMVPBTPGBQCHSPBSQ28AROFXNNI</td>\n",
       "      <td>bc733fb96fd73496e10fcff3c640ee11c4df3d7a</td>\n",
       "      <td>By . Nick Harris . Manchester City are the bes...</td>\n",
       "      <td>152</td>\n",
       "      <td>217</td>\n",
       "      <td>united, manchester, liverpool, chelsea, league...</td>\n",
       "      <td>club, team, season, players, england, football...</td>\n",
       "      <td>Manchester United's manager, Premier League, t...</td>\n",
       "      <td>football league, the team's fans, football pla...</td>\n",
       "      <td>This topic is about Manchester United's manage...</td>\n",
       "      <td>This topic is about a football league having a...</td>\n",
       "      <td>Premier league is the most paying football lea...</td>\n",
       "      <td>Manchester city players earn the largest amoun...</td>\n",
       "    </tr>\n",
       "  </tbody>\n",
       "</table>\n",
       "</div>"
      ],
      "text/plain": [
       "                     AssignmentId                                     docId  \\\n",
       "0  3EG49X351WE8VLP4S0TIYZF3V476X2  094372190d52acbce61a73ec16b2217d1a60276f   \n",
       "1  3DOCMVPBTPGBQCHSPBSQ28AROFXNNI  bc733fb96fd73496e10fcff3c640ee11c4df3d7a   \n",
       "\n",
       "                                             article  tid1  tid2  \\\n",
       "0  The president of the World Bank on Saturday wa...   175   110   \n",
       "1  By . Nick Harris . Manchester City are the bes...   152   217   \n",
       "\n",
       "                                              words1  \\\n",
       "0  house, committee, congress, senate, republican...   \n",
       "1  united, manchester, liverpool, chelsea, league...   \n",
       "\n",
       "                                              words2  \\\n",
       "0  billion, figures, economy, global, growth, eco...   \n",
       "1  club, team, season, players, england, football...   \n",
       "\n",
       "                                            phrases1  \\\n",
       "0  senate and congress, congressional pressure, y...   \n",
       "1  Manchester United's manager, Premier League, t...   \n",
       "\n",
       "                                            phrases2  \\\n",
       "0  economic growth, global growth, billion dollar...   \n",
       "1  football league, the team's fans, football pla...   \n",
       "\n",
       "                                          sentences1  \\\n",
       "0  This topic is about the senate and congress, c...   \n",
       "1  This topic is about Manchester United's manage...   \n",
       "\n",
       "                                          sentences2  \\\n",
       "0  This topic is about economic growth involving ...   \n",
       "1  This topic is about a football league having a...   \n",
       "\n",
       "                                            summary1  \\\n",
       "0  The leader of the World Bank urged the US to t...   \n",
       "1  Premier league is the most paying football lea...   \n",
       "\n",
       "                                            summary2  \n",
       "0  The US economy will be a driving factor in the...  \n",
       "1  Manchester city players earn the largest amoun...  "
      ]
     },
     "execution_count": 103,
     "metadata": {},
     "output_type": "execute_result"
    }
   ],
   "source": [
    "filename = '/home/ramprasad.sa/qf_sd_summarization/datasets/datasets_og/NewsTS/NEWTS_train_2400.csv'\n",
    "df = read_test(filename)\n",
    "df.head()[:2]"
   ]
  },
  {
   "cell_type": "code",
   "execution_count": null,
   "id": "a10bca3c-ca12-40a1-9caf-3f1add2fe3e1",
   "metadata": {},
   "outputs": [],
   "source": []
  },
  {
   "cell_type": "code",
   "execution_count": 107,
   "id": "b36d4ab8-9eb7-4349-abf1-c7a9efa2a315",
   "metadata": {
    "tags": []
   },
   "outputs": [],
   "source": [
    "example_article = df.iloc[[10]]"
   ]
  },
  {
   "cell_type": "code",
   "execution_count": 111,
   "id": "c606bb94-7412-45f4-b887-e94cbadfde83",
   "metadata": {
    "tags": []
   },
   "outputs": [
    {
     "data": {
      "text/plain": [
       "'This topic is about flying the plane, the pilot of the aircraft, passengers flying for leisure or work, landing strip, the flight crew, take-offs and landings, aircraft landing, and a jet flying by.'"
      ]
     },
     "execution_count": 111,
     "metadata": {},
     "output_type": "execute_result"
    }
   ],
   "source": [
    "example_article['sentences1'].values[0]"
   ]
  },
  {
   "cell_type": "code",
   "execution_count": 112,
   "id": "3378221d-bbc0-4912-ac5d-382ffcf218b0",
   "metadata": {
    "tags": []
   },
   "outputs": [
    {
     "data": {
      "text/plain": [
       "\"Since 2006 there has been 3 cargo plane fires do to fire suppressor systems taking too long to let the pilot know there is a problem. The pilots don't have enough time to react fast enough to get the plane to safety. On two of those fires the aircraft crew did not make it out alive.\""
      ]
     },
     "execution_count": 112,
     "metadata": {},
     "output_type": "execute_result"
    }
   ],
   "source": [
    "example_article['summary1'].values[0]"
   ]
  },
  {
   "cell_type": "code",
   "execution_count": 110,
   "id": "334cf938-84e0-45f1-9dc2-86454dc23af3",
   "metadata": {
    "tags": []
   },
   "outputs": [
    {
     "name": "stdout",
     "output_type": "stream",
     "text": [
      "Washington (CNN) -- Fire-protection systems on freight aircraft are inadequate, top U.S. aviation investigators say. The National Transportation Safety Board recommended improvements and rule changes Wednesday based on investigations of three catastrophic cargo plane fires. NTSB Chairwoman Deborah Hersman recommended that the Federal Aviation Administration require better early detection of fires inside cargo containers, development of fire-resistant containers and requiring active fire-suppression systems on all freight airlines. An NTSB report focused on three cargo fire accidents since 2006. Two of those fires killed the flight crews and destroyed the aircraft, in incidents in Dubai and North Korea. In the third incident in Philadelphia, the crew escaped with minor smoke-inhalation difficulties, and the plane was significantly damaged. \"These fires quickly grew out of control, leaving the crew with little time to get the aircraft on the ground,\" Hersman said in a statement released with the report. \"Detection, suppression and containment systems can give crews more time and more options. The current approach is not safe enough.\" FAA budget cuts would affect fliers . In all three cases, the fires started within the cargo containers aboard the planes, but by the time the plane's fire warning system alerted pilots to the dangers, there was little time for them to react. Federal regulations require cargo airline fire detection systems to alert pilots within one minute of a fire starting, but the NTSB's investigation found current systems detected fire and smoke anywhere from two and half minutes to more than 18 minutes after the fire started. The NTSB concluded cargo containers made of flammable materials significantly increase the intensity of the on-board fires because there's been little focus by manufacturers or regulators to develop fire-resistant cargo containers. Additionally, the NTSB's report recommended improved fire suppression systems on cargo planes, a recommendation it originally made to the FAA in 2007. After the 2007 recommendation, the FAA did a cost-benefit analysis of upgrading fire suppression systems and found it to be too expensive, a fact the NTSB highlighted in its report. \"The two catastrophic cargo airplane fires that occurred in less than a year occurred after the FAA's cost-benefit analysis concluded that the installation of fire suppression systems was not cost-effective,\" the board said. UPS briefed Hersman earlier this week on the shipping company's efforts to develop improved fire safety standards. Also, FedEx is in the process of installing a fire suppression system on its long-haul fleet, the NTSB said. In an e-mail statement to CNN, FAA officials said the agency \"has long supported improved fire protection on all cargo airplanes through research on new, non-Halon fire extinguishing agents, fire suppression systems directed at individual cargo containers or specific cargo compartment zones, and advanced cargo containers incorporating smoke detection, fire containment, and/or fire suppression systems.\" FAA officials said they would carefully evaluate the NTSB's recommendations. Way beyond air bags: NTSB wants next-generation safety devices on cars, trucks .\n"
     ]
    }
   ],
   "source": [
    "print(example_article['article'].values[0])"
   ]
  },
  {
   "cell_type": "code",
   "execution_count": 13,
   "id": "4806a64c-33d5-467e-bc48-417afcc0d41e",
   "metadata": {
    "tags": []
   },
   "outputs": [
    {
     "data": {
      "text/plain": [
       "[\" traveling via air, passengers on a flight, airlines offering flexible changes, the world's busiest airport, international transport, and flights being handled by different air traffic controllers.\"]"
      ]
     },
     "execution_count": 13,
     "metadata": {},
     "output_type": "execute_result"
    }
   ],
   "source": [
    "df['sentences2'].values[10].split('This topic is about')[1:]"
   ]
  },
  {
   "cell_type": "code",
   "execution_count": 15,
   "id": "5901fb76-37e8-4608-8fd7-3a0342e37452",
   "metadata": {
    "tags": []
   },
   "outputs": [
    {
     "data": {
      "text/plain": [
       "'Foggy weather conditions made it difficult to rescue a stranded hiker. Helicopters cannot fly with such low visibility. The weather also blocked out sunlight.'"
      ]
     },
     "execution_count": 15,
     "metadata": {},
     "output_type": "execute_result"
    }
   ],
   "source": [
    "df['summary1'].values[0]"
   ]
  },
  {
   "cell_type": "code",
   "execution_count": 17,
   "id": "ab43b0d6-4122-4867-951c-90639c1ed849",
   "metadata": {
    "tags": []
   },
   "outputs": [],
   "source": [
    "# df['article'].values[0]\n",
    "# "
   ]
  },
  {
   "cell_type": "code",
   "execution_count": 37,
   "id": "faaf1374-1be0-4936-b399-5e54eb12f082",
   "metadata": {
    "tags": []
   },
   "outputs": [],
   "source": [
    "df_dict = {\n",
    "        'id': [],\n",
    "        'Article': [],\n",
    "        'Query': [],\n",
    "        'Reference': [],\n",
    "        'Faithful_Query': [],\n",
    "        \n",
    "    }\n",
    "\n",
    "for idx, row in df.iterrows():\n",
    "    docid = row['docId']\n",
    "    tid1 = row['tid1']\n",
    "    tid2 = row['tid2']\n",
    "    summary1 = row['summary1']\n",
    "    summary2 = row['summary2']\n",
    "    # sentences1 = ' '.join(row['sentences1'].split('This topic is about')[1:]).strip()\n",
    "    # sentences2 = ' '.join(row['sentences2'].split('This topic is about')[1:]).strip()\n",
    "    \n",
    "    df_dict['id'].append(f'{docid}_{tid1}')\n",
    "    df_dict['Article'].append(row['article'])\n",
    "    df_dict['Query'].append(row['words1'])\n",
    "    df_dict['Reference'].append(summary1)\n",
    "    df_dict['Faithful_Query'].append('yes')\n",
    "    \n",
    "    df_dict['id'].append(f'{docid}_{tid2}')\n",
    "    df_dict['Article'].append(row['article'])\n",
    "    df_dict['Query'].append(row['words2'])\n",
    "    df_dict['Reference'].append(summary2)\n",
    "    df_dict['Faithful_Query'].append('yes')"
   ]
  },
  {
   "cell_type": "code",
   "execution_count": 38,
   "id": "e5e34b87-d822-41bd-b1ec-706e5d5efaef",
   "metadata": {
    "tags": []
   },
   "outputs": [],
   "source": [
    "df = pd.DataFrame(df_dict)"
   ]
  },
  {
   "cell_type": "code",
   "execution_count": 39,
   "id": "723c6778-8720-4cc5-a341-cec93d3e1713",
   "metadata": {
    "tags": []
   },
   "outputs": [
    {
     "data": {
      "text/plain": [
       "'music, singer, song, band, bruce, pop, fans, album, songs, sound,'"
      ]
     },
     "execution_count": 39,
     "metadata": {},
     "output_type": "execute_result"
    }
   ],
   "source": [
    "df['Query'].values[20]"
   ]
  },
  {
   "cell_type": "code",
   "execution_count": 40,
   "id": "5cb94861-c67f-461a-b9a0-240d0beedd4d",
   "metadata": {
    "tags": []
   },
   "outputs": [
    {
     "data": {
      "text/plain": [
       "'After experiencing some terrible customer service on an airline, a band wrote a sarcastic song about the experience. It became a hit, notably among other passengers on that airline. However, not everyone is impressed with their musical talent and lyrics.'"
      ]
     },
     "execution_count": 40,
     "metadata": {},
     "output_type": "execute_result"
    }
   ],
   "source": [
    "df['Reference'].values[20]"
   ]
  },
  {
   "cell_type": "code",
   "execution_count": 41,
   "id": "492e83b3-9639-42c7-9be6-abd974efa10a",
   "metadata": {
    "tags": []
   },
   "outputs": [
    {
     "data": {
      "text/plain": [
       "\"Sidonie, a well known band from Catalonia, created a rather tongue-in-cheek song during a recent Ryanair flight to Santiago de Compostela in northern Spain. The group, who posted the performance video to Facebook and Youtube, explained that they composed the tune after experiencing a 'lack of respect shown by Ryanair flight attendants.' In the video, the band's lead singer strums a ukulele as the group serenades passengers on board - despite Ryanair's scathing review of the sarcastic ditty. A well-known Spanish band from Catalonia, called Sidonie, sang an impromptu song aboard a Ryanair flight . While en route to Santiago, the band grew impatient with the alleged 'lack of respect' from flight attendants . Although sung in their native tongue, the lyrics read: 'Ryanair, how we like Ryanair, and its flight attendants, they could not be nicer'. Clearly meant to be ironic, some passengers even join in and sing or clap along as the band repeats the chorus during their impromptu performance. Explaining the motivation behind their hilarious video, the band wrote online: 'After receiving, repeatedly, the habitual lack of respect shown by flight attendants on the Ryanair route to Santiago, we were moved to compose and perform a song dedicated to them and their irritable airline.' Ryanair, however, wasn't as impressed with the band's performance. Robin Kiely, a spokesperson for the airline told MailOnline Travel: 'Sidonie? More like sit down mate. 'The lyrics are average, the vocals out of tune, the ukulele playing leaves a lot to be desired and there isn't one trumpet.' Taking matters into their own hands, the group composed and performed a tongue-in-cheek tune . As they paraded up and down the aisle of the plane, some passengers even began to sing along with the lyrics . The band also posted the video to Facebook, adding that the song was dedicated to the 'irritable airline' 'We much prefer our new on-time landing music, which will be heard on over 90 per cent of our flights this year, as we carry 100 million customers,' Kiely added. Ryanair is famous for complaints about its customer service and surcharges, and it has recently launched a marketing campaign and measures such as allocated seating to win over passengers. Since being posted on March 27, the video has been viewed over 24,000 times on YouTube and has been liked over 12,000 times on Facebook. MailOnline Travel has contacted Sidonie for comment about the video.\""
      ]
     },
     "execution_count": 41,
     "metadata": {},
     "output_type": "execute_result"
    }
   ],
   "source": [
    "df['Article'].values[20]"
   ]
  },
  {
   "cell_type": "code",
   "execution_count": null,
   "id": "0e0e156d-7180-462c-bb8f-ee4e96db8a9f",
   "metadata": {},
   "outputs": [],
   "source": []
  }
 ],
 "metadata": {
  "kernelspec": {
   "display_name": "qfs",
   "language": "python",
   "name": "qfs"
  },
  "language_info": {
   "codemirror_mode": {
    "name": "ipython",
    "version": 3
   },
   "file_extension": ".py",
   "mimetype": "text/x-python",
   "name": "python",
   "nbconvert_exporter": "python",
   "pygments_lexer": "ipython3",
   "version": "3.8.18"
  }
 },
 "nbformat": 4,
 "nbformat_minor": 5
}
