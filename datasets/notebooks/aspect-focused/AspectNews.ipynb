{
 "cells": [
  {
   "cell_type": "code",
   "execution_count": 1,
   "id": "0858327f-ada5-4bc0-ab66-d16733355cc7",
   "metadata": {
    "tags": []
   },
   "outputs": [],
   "source": [
    "import pandas as pd"
   ]
  },
  {
   "cell_type": "code",
   "execution_count": 122,
   "id": "e93c787c-1312-4fc9-84e9-6470a3f9d87e",
   "metadata": {
    "tags": []
   },
   "outputs": [],
   "source": [
    "filename_query_map = {\n",
    "    'fraud_100_penalty.txt': 'penalty or consequences for the fraudster, or for others',\n",
    "    'fraud_100_nature.txt': 'nature of the fraud: the amount of money taken, benefits for the fraudster, and how the fraud worked',\n",
    "    'eq_100_geo.txt': 'geography, region, or location',\n",
    "    'eq_100_rescue.txt': 'recovery and aid efforts (death toll and injuries, foreign/domestic government assistance, impact on survivors)',\n",
    " \n",
    "\n",
    "}\n",
    "\n",
    "filename_aspect_map: {\n",
    "    'fraud_100_penalty.txt': 'penalty of fraud',\n",
    "    'fraud_100_nature.txt': 'nature of fraid',\n",
    "    'eq_100_geo.txt': 'earthquake geography',\n",
    "    'eq_100_rescue': 'earthquake_recovery'\n",
    "}\n",
    "\n",
    "def read_annotations(filepath, filename):\n",
    "    with open(f'{filepath}/{filename}', 'r') as fp:\n",
    "        all_lines = fp.readlines()\n",
    "        annotations = ''.join(all_lines).split('\\n\\n\\n')\n",
    "    query =  filename_query_map[filename]\n",
    "    aspect = filename_aspect_map[filename]\n",
    "    return annotations, query, aspect\n",
    "\n",
    "def get_article_summaries(annotations):\n",
    "    articles = []\n",
    "    reference_summaries = []\n",
    "    for example in annotations:\n",
    "        article = []\n",
    "        all_sentences = []\n",
    "        for sentence in example.split('\\n'):\n",
    "            if 'Annotator' in sentence:\n",
    "                annotations = sentence.split('Sentences')[1].split(',')\n",
    "                sentences_marked = []\n",
    "                for each_ann in annotations:\n",
    "                    sentence_num = eval(re.findall('^.*?(\\d+)', each_ann)[0])\n",
    "                    sentences_marked.append(sentence_num)\n",
    "                all_sentences += sentences_marked \n",
    "\n",
    "            else:\n",
    "                sentence = ' '.join(sentence.split(':')[1:]).strip()\n",
    "                article.append(sentence)\n",
    "        reference_summ_idx = set([each for each in all_sentences if all_sentences.count(each) >= 2])\n",
    "        # print(reference_summ_idx)\n",
    "        reference_summ = [article[idx] for idx in reference_summ_idx]\n",
    "\n",
    "        articles += ['\\n'.join(article)]\n",
    "        reference_summaries += ['\\n'.join(reference_summ)]\n",
    "    return articles, reference_summaries\n",
    "    \n",
    "\n"
   ]
  },
  {
   "cell_type": "code",
   "execution_count": null,
   "id": "18ef4a01-2279-4f36-a933-3b37121c5ca5",
   "metadata": {},
   "outputs": [],
   "source": []
  },
  {
   "cell_type": "code",
   "execution_count": 123,
   "id": "f0f9f8e6-5926-4397-b7f3-31d4bed74a8a",
   "metadata": {
    "tags": []
   },
   "outputs": [],
   "source": [
    "import random\n",
    "\n",
    "def populate_df(filepath, filename, df_dict):\n",
    "    annotations, query, aspect = read_annotations(filepath, filename)\n",
    "    articles, reference_summaries = get_article_summaries(annotations)\n",
    "    for art, ref in list(zip(articles, reference_summaries)):\n",
    "        df_dict['id'].append(random.getrandbits(128))\n",
    "        df_dict['Article'].append(art)\n",
    "        df_dict['Aspect'].append(aspect)\n",
    "        df_dict['Query'].append(query)\n",
    "        df_dict['Reference'].append(ref)\n",
    "        df_dict['Faithful_Query'].append('yes')\n",
    "        \n",
    "    assert(len(set([len(v) for k , v in df_dict.items()])) == 1)\n",
    "    return df_dict\n",
    "        \n"
   ]
  },
  {
   "cell_type": "code",
   "execution_count": 124,
   "id": "570d5b0d-5dd0-40df-a310-3d34d53f7471",
   "metadata": {
    "tags": []
   },
   "outputs": [
    {
     "data": {
      "text/plain": [
       "101"
      ]
     },
     "execution_count": 124,
     "metadata": {},
     "output_type": "execute_result"
    }
   ],
   "source": [
    "df_dict = {\n",
    "    'id': [],\n",
    "    'Article': [],\n",
    "    'Aspect': [],\n",
    "    'Query': [],\n",
    "    'Reference': [],\n",
    "    'Faithful_Query': []\n",
    "\n",
    "}\n",
    "filepath = '/work/frink/ramprasad.sa/aosumm/data'\n",
    "filename = 'fraud_100_penalty.txt'\n",
    "df_dict = populate_df(filepath, filename, df_dict)\n",
    "len(df_dict['id'])"
   ]
  },
  {
   "cell_type": "code",
   "execution_count": 125,
   "id": "1773df8f-ed80-479e-bfc4-cbeb543285f8",
   "metadata": {},
   "outputs": [
    {
     "data": {
      "text/plain": [
       "202"
      ]
     },
     "execution_count": 125,
     "metadata": {},
     "output_type": "execute_result"
    }
   ],
   "source": [
    "filepath = '/work/frink/ramprasad.sa/aosumm/data'\n",
    "filename = 'fraud_100_nature.txt'\n",
    "df_dict = populate_df(filepath, filename, df_dict)\n",
    "len(df_dict['id'])"
   ]
  },
  {
   "cell_type": "code",
   "execution_count": 126,
   "id": "27033dc1-c1bd-4f5b-9411-81c6ea2ae6ce",
   "metadata": {},
   "outputs": [
    {
     "data": {
      "text/plain": [
       "303"
      ]
     },
     "execution_count": 126,
     "metadata": {},
     "output_type": "execute_result"
    }
   ],
   "source": [
    "filepath = '/work/frink/ramprasad.sa/aosumm/data'\n",
    "filename = 'eq_100_geo.txt'\n",
    "df_dict = populate_df(filepath, filename, df_dict)\n",
    "len(df_dict['id'])"
   ]
  },
  {
   "cell_type": "code",
   "execution_count": 127,
   "id": "1e2daa3f-b777-4245-b0a5-7ddcb95d9e92",
   "metadata": {
    "tags": []
   },
   "outputs": [
    {
     "data": {
      "text/plain": [
       "404"
      ]
     },
     "execution_count": 127,
     "metadata": {},
     "output_type": "execute_result"
    }
   ],
   "source": [
    "filepath = '/work/frink/ramprasad.sa/aosumm/data'\n",
    "filename = 'eq_100_geo.txt'\n",
    "df_dict = populate_df(filepath, filename, df_dict)\n",
    "len(df_dict['id'])"
   ]
  },
  {
   "cell_type": "code",
   "execution_count": 128,
   "id": "87bd0fa5-ce6f-49f8-974d-fff773a6a4c0",
   "metadata": {
    "tags": []
   },
   "outputs": [],
   "source": [
    "df = pd.DataFrame(df_dict)"
   ]
  },
  {
   "cell_type": "code",
   "execution_count": 129,
   "id": "dcde622c-0e3a-44b3-b67a-c988c9ba2586",
   "metadata": {
    "tags": []
   },
   "outputs": [
    {
     "data": {
      "text/html": [
       "<div>\n",
       "<style scoped>\n",
       "    .dataframe tbody tr th:only-of-type {\n",
       "        vertical-align: middle;\n",
       "    }\n",
       "\n",
       "    .dataframe tbody tr th {\n",
       "        vertical-align: top;\n",
       "    }\n",
       "\n",
       "    .dataframe thead th {\n",
       "        text-align: right;\n",
       "    }\n",
       "</style>\n",
       "<table border=\"1\" class=\"dataframe\">\n",
       "  <thead>\n",
       "    <tr style=\"text-align: right;\">\n",
       "      <th></th>\n",
       "      <th>id</th>\n",
       "      <th>Article</th>\n",
       "      <th>Aspect</th>\n",
       "      <th>Query</th>\n",
       "      <th>Reference</th>\n",
       "      <th>Faithful_Query</th>\n",
       "    </tr>\n",
       "  </thead>\n",
       "  <tbody>\n",
       "    <tr>\n",
       "      <th>0</th>\n",
       "      <td>247543995101515407153817589358894090994</td>\n",
       "      <td>Lawyers for jailed millionaire Robert Durst sa...</td>\n",
       "      <td>penalty or consequences for the fraudster, or ...</td>\n",
       "      <td>penalty or consequences for the fraudster, or ...</td>\n",
       "      <td>Lawyers for jailed millionaire Robert Durst sa...</td>\n",
       "      <td>yes</td>\n",
       "    </tr>\n",
       "    <tr>\n",
       "      <th>1</th>\n",
       "      <td>333173560690393269554370932061037991079</td>\n",
       "      <td>Oregon-based defense contractor FLIR Systems I...</td>\n",
       "      <td>penalty or consequences for the fraudster, or ...</td>\n",
       "      <td>penalty or consequences for the fraudster, or ...</td>\n",
       "      <td>Oregon-based defense contractor FLIR Systems I...</td>\n",
       "      <td>yes</td>\n",
       "    </tr>\n",
       "    <tr>\n",
       "      <th>2</th>\n",
       "      <td>236792177404515497775082764168118072571</td>\n",
       "      <td>Google Wallet says it has changed its policy w...</td>\n",
       "      <td>penalty or consequences for the fraudster, or ...</td>\n",
       "      <td>penalty or consequences for the fraudster, or ...</td>\n",
       "      <td>For example, for those who use mobile payment ...</td>\n",
       "      <td>yes</td>\n",
       "    </tr>\n",
       "    <tr>\n",
       "      <th>3</th>\n",
       "      <td>262417639128301614252128265246116796974</td>\n",
       "      <td>Tamara Pacskowska, who posed as a wealthy pens...</td>\n",
       "      <td>penalty or consequences for the fraudster, or ...</td>\n",
       "      <td>penalty or consequences for the fraudster, or ...</td>\n",
       "      <td>A Polish conwoman who posed as a wealthy pensi...</td>\n",
       "      <td>yes</td>\n",
       "    </tr>\n",
       "    <tr>\n",
       "      <th>4</th>\n",
       "      <td>99324562146308020801814252666146204731</td>\n",
       "      <td>'The General'  Mohammed Suleman Khan, 43, was ...</td>\n",
       "      <td>penalty or consequences for the fraudster, or ...</td>\n",
       "      <td>penalty or consequences for the fraudster, or ...</td>\n",
       "      <td>'The General'  Mohammed Suleman Khan, 43, was ...</td>\n",
       "      <td>yes</td>\n",
       "    </tr>\n",
       "    <tr>\n",
       "      <th>...</th>\n",
       "      <td>...</td>\n",
       "      <td>...</td>\n",
       "      <td>...</td>\n",
       "      <td>...</td>\n",
       "      <td>...</td>\n",
       "      <td>...</td>\n",
       "    </tr>\n",
       "    <tr>\n",
       "      <th>399</th>\n",
       "      <td>96772121434302228524035801668221220614</td>\n",
       "      <td>(CNN) -- A strong 6.6-magnitude earthquake str...</td>\n",
       "      <td>geography, region, or location</td>\n",
       "      <td>geography, region, or location</td>\n",
       "      <td>(CNN) -- A strong 6.6-magnitude earthquake str...</td>\n",
       "      <td>yes</td>\n",
       "    </tr>\n",
       "    <tr>\n",
       "      <th>400</th>\n",
       "      <td>62482699960013645282739550804782713032</td>\n",
       "      <td>(CNN) -- Confusion and then an uneasy calm.\\nT...</td>\n",
       "      <td>geography, region, or location</td>\n",
       "      <td>geography, region, or location</td>\n",
       "      <td>That's how residents up and down the East Coas...</td>\n",
       "      <td>yes</td>\n",
       "    </tr>\n",
       "    <tr>\n",
       "      <th>401</th>\n",
       "      <td>328844335995869382036570946417926490143</td>\n",
       "      <td>(CNN) -- Cricket officials plan to commemorate...</td>\n",
       "      <td>geography, region, or location</td>\n",
       "      <td>geography, region, or location</td>\n",
       "      <td>Emergency workers are searching for survivors ...</td>\n",
       "      <td>yes</td>\n",
       "    </tr>\n",
       "    <tr>\n",
       "      <th>402</th>\n",
       "      <td>134294467637613055190980839641912579737</td>\n",
       "      <td>(CNN) -- An early morning earthquake rattled n...</td>\n",
       "      <td>geography, region, or location</td>\n",
       "      <td>geography, region, or location</td>\n",
       "      <td>(CNN) -- An early morning earthquake rattled n...</td>\n",
       "      <td>yes</td>\n",
       "    </tr>\n",
       "    <tr>\n",
       "      <th>403</th>\n",
       "      <td>67027243597025788506718557112494535319</td>\n",
       "      <td></td>\n",
       "      <td>geography, region, or location</td>\n",
       "      <td>geography, region, or location</td>\n",
       "      <td></td>\n",
       "      <td>yes</td>\n",
       "    </tr>\n",
       "  </tbody>\n",
       "</table>\n",
       "<p>404 rows × 6 columns</p>\n",
       "</div>"
      ],
      "text/plain": [
       "                                          id  \\\n",
       "0    247543995101515407153817589358894090994   \n",
       "1    333173560690393269554370932061037991079   \n",
       "2    236792177404515497775082764168118072571   \n",
       "3    262417639128301614252128265246116796974   \n",
       "4     99324562146308020801814252666146204731   \n",
       "..                                       ...   \n",
       "399   96772121434302228524035801668221220614   \n",
       "400   62482699960013645282739550804782713032   \n",
       "401  328844335995869382036570946417926490143   \n",
       "402  134294467637613055190980839641912579737   \n",
       "403   67027243597025788506718557112494535319   \n",
       "\n",
       "                                               Article  \\\n",
       "0    Lawyers for jailed millionaire Robert Durst sa...   \n",
       "1    Oregon-based defense contractor FLIR Systems I...   \n",
       "2    Google Wallet says it has changed its policy w...   \n",
       "3    Tamara Pacskowska, who posed as a wealthy pens...   \n",
       "4    'The General'  Mohammed Suleman Khan, 43, was ...   \n",
       "..                                                 ...   \n",
       "399  (CNN) -- A strong 6.6-magnitude earthquake str...   \n",
       "400  (CNN) -- Confusion and then an uneasy calm.\\nT...   \n",
       "401  (CNN) -- Cricket officials plan to commemorate...   \n",
       "402  (CNN) -- An early morning earthquake rattled n...   \n",
       "403                                                      \n",
       "\n",
       "                                                Aspect  \\\n",
       "0    penalty or consequences for the fraudster, or ...   \n",
       "1    penalty or consequences for the fraudster, or ...   \n",
       "2    penalty or consequences for the fraudster, or ...   \n",
       "3    penalty or consequences for the fraudster, or ...   \n",
       "4    penalty or consequences for the fraudster, or ...   \n",
       "..                                                 ...   \n",
       "399                     geography, region, or location   \n",
       "400                     geography, region, or location   \n",
       "401                     geography, region, or location   \n",
       "402                     geography, region, or location   \n",
       "403                     geography, region, or location   \n",
       "\n",
       "                                                 Query  \\\n",
       "0    penalty or consequences for the fraudster, or ...   \n",
       "1    penalty or consequences for the fraudster, or ...   \n",
       "2    penalty or consequences for the fraudster, or ...   \n",
       "3    penalty or consequences for the fraudster, or ...   \n",
       "4    penalty or consequences for the fraudster, or ...   \n",
       "..                                                 ...   \n",
       "399                     geography, region, or location   \n",
       "400                     geography, region, or location   \n",
       "401                     geography, region, or location   \n",
       "402                     geography, region, or location   \n",
       "403                     geography, region, or location   \n",
       "\n",
       "                                             Reference Faithful_Query  \n",
       "0    Lawyers for jailed millionaire Robert Durst sa...            yes  \n",
       "1    Oregon-based defense contractor FLIR Systems I...            yes  \n",
       "2    For example, for those who use mobile payment ...            yes  \n",
       "3    A Polish conwoman who posed as a wealthy pensi...            yes  \n",
       "4    'The General'  Mohammed Suleman Khan, 43, was ...            yes  \n",
       "..                                                 ...            ...  \n",
       "399  (CNN) -- A strong 6.6-magnitude earthquake str...            yes  \n",
       "400  That's how residents up and down the East Coas...            yes  \n",
       "401  Emergency workers are searching for survivors ...            yes  \n",
       "402  (CNN) -- An early morning earthquake rattled n...            yes  \n",
       "403                                                               yes  \n",
       "\n",
       "[404 rows x 6 columns]"
      ]
     },
     "execution_count": 129,
     "metadata": {},
     "output_type": "execute_result"
    }
   ],
   "source": [
    "df\n",
    "        \n"
   ]
  },
  {
   "cell_type": "code",
   "execution_count": 131,
   "id": "5b99ad2f-7266-417a-99be-dc02a05347ac",
   "metadata": {
    "tags": []
   },
   "outputs": [],
   "source": [
    "df.to_csv('/home/ramprasad.sa/qf_sd_summarization/datasets/postprocessed/aspect_focused/aspect_news_summ.csv')\n",
    "\n",
    "\n"
   ]
  },
  {
   "cell_type": "code",
   "execution_count": null,
   "id": "115e77da-5133-4e4c-b013-79624bd5bf01",
   "metadata": {},
   "outputs": [],
   "source": []
  }
 ],
 "metadata": {
  "kernelspec": {
   "display_name": "qfs",
   "language": "python",
   "name": "qfs"
  },
  "language_info": {
   "codemirror_mode": {
    "name": "ipython",
    "version": 3
   },
   "file_extension": ".py",
   "mimetype": "text/x-python",
   "name": "python",
   "nbconvert_exporter": "python",
   "pygments_lexer": "ipython3",
   "version": "3.8.18"
  }
 },
 "nbformat": 4,
 "nbformat_minor": 5
}
