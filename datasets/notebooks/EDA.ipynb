{
 "cells": [
  {
   "cell_type": "code",
   "execution_count": 5,
   "id": "463f1e7e-4cb5-4e9a-ad40-51e643187e84",
   "metadata": {},
   "outputs": [
    {
     "data": {
      "text/plain": [
       "(['Cauchy elastic material',\n",
       "  'Cauchy elastic material',\n",
       "  'Comic LO',\n",
       "  'Druid of Colchester',\n",
       "  'Maeve Fort'],\n",
       " Dataset({\n",
       "     features: ['title', 'document', 'aspect', 'aspect_sents', 'summary'],\n",
       "     num_rows: 112005\n",
       " }))"
      ]
     },
     "execution_count": 5,
     "metadata": {},
     "output_type": "execute_result"
    }
   ],
   "source": [
    "'''\n",
    "OASUmm Explorer\n",
    "'''\n",
    "from datasets import load_dataset\n",
    "\n",
    "dataset = load_dataset(\"kqsong/OASum\", split = \"test\", cache_dir='/scratch/ramprasad.sa/huggingface_datasets')\n",
    "dataset['title'][:5], dataset"
   ]
  },
  {
   "cell_type": "code",
   "execution_count": 4,
   "id": "0cbe587d-dd9d-41b4-949b-624369ba9d89",
   "metadata": {},
   "outputs": [
    {
     "data": {
      "text/plain": [
       "['The grave was discovered by archaeologists in 1996, at the village of Stanway, Essex, The find is believed to be that of an Iron Age druid dated .',\n",
       " 'It is one among a number of graves of eminent people found, believed to be buried around the time of the Roman invasion of Britain in 43\\xa0CE.',\n",
       " 'The area was then associated with the Catuvellauni tribe.',\n",
       " 'In the wooden chambered burial site, archaeologists uncovered cremated human remains, and a board game — the first time that such a game has been found virtually intact.',\n",
       " 'Other items uncovered included a cloak decorated with brooches, a jet bead believed to have magical properties, medical equipment, a tea strainer still containing some kind of herbal brew, and some mysterious metal poles conjectured to be used for divining.',\n",
       " 'The surgical kit consisted of 13\\xa0instruments including:\\nA cup was also found, containing traces of the herb mugwort.',\n",
       " 'The tea strainer also contained herbs commonly associated with herbal remedies in ancient times.',\n",
       " 'Philip Crummy, director of the trust, remained cautious, adding that there may be other explanations.',\n",
       " '\"In the report we draw the possibility that this man or woman was a druid,\" he wrote:\\n\"The so-called ‘druid’ could have been a doctor.',\n",
       " 'The tea strainer contains artemisia pollen, which is commonly associated with herbal remedies.',\n",
       " 'Healing is an attribute given to druids.',\n",
       " \"We don't know what the metal rods are for, but we think they could have been used for divining.\",\n",
       " 'The question is whether all that stacks up to him [or her] being a druid.',\n",
       " 'It could be – it was certainly somebody special.',\n",
       " '\"\\nThe medical kit was \"fairly Romanized\" and the individual may have acted \"like a Roman surgeon / doctor would have done.\"',\n",
       " '\"Divination was widely practiced in the Roman world too,\" he added.',\n",
       " 'Because of the site’s age and location, archaeologist Mike Pitts believed the person was indeed a Celtic druid, and could have been closely related to Cunobelinus, a chief or king of the Catuvellauni tribe.',\n",
       " 'The grave contained a board game, with its blue and white glass board-pieces laid out ready for start of play.',\n",
       " 'Surviving metal corners and hinges from the game board allowed a reconstruction to be created; it is believed to be a 55×40\\xa0centimeter (21×15\\xa0inch) rectangle with play over a board of 8×12\\xa0squares.',\n",
       " 'The white and blue glass tokens – 13 for each side – were ranged opposite each other, similar to the starting position in chess.',\n",
       " 'All pieces were of equal size, except for a single, smaller white bead positioned close to the centre of the board.',\n",
       " 'Given the absence of dice, Finkel (2009) speculated that the game was purely strategic.',\n",
       " 'A detailed analysis of the game by Schädler (2007) argues that the game is neither Roman latrunculi, nor XII scripta, but in fact a relative of the Celtic game known as fidchell or gwyddbwyll.',\n",
       " 'The find suggests the game was played on either 8×12 or 9×13\\xa0squares using 13\\xa0pieces per side.',\n",
       " 'The presence of just one smaller bead may indicate that the game was asymmetrical, with a king-like piece belonging to one side, as in tafl games.',\n",
       " 'Alternatively, some people believe this board may have been used along with the metal rods for divining purposes.',\n",
       " 'In 2015, Colchester resident Alex Jones developed a board game he calls \"Aquila\" inspired by the Stanway game.',\n",
       " 'At least one \"Aquila\" tournament was held at the Colchester Roman Circus Centre in September\\xa02015.']"
      ]
     },
     "execution_count": 4,
     "metadata": {},
     "output_type": "execute_result"
    }
   ],
   "source": [
    "dataset['document'][3]"
   ]
  },
  {
   "cell_type": "code",
   "execution_count": 6,
   "id": "4a1d35a4-7eff-4d70-96c5-0dd1355b48fe",
   "metadata": {},
   "outputs": [
    {
     "data": {
      "text/plain": [
       "'Artifacts'"
      ]
     },
     "execution_count": 6,
     "metadata": {},
     "output_type": "execute_result"
    }
   ],
   "source": [
    "dataset['aspect'][3]"
   ]
  },
  {
   "cell_type": "code",
   "execution_count": 7,
   "id": "f8813f1d-d3a9-49fc-b9bb-a48ea9614b27",
   "metadata": {},
   "outputs": [
    {
     "data": {
      "text/plain": [
       "[3, 4, 5, 6, 7, 8, 9, 10, 11, 12, 13, 14, 15, 16]"
      ]
     },
     "execution_count": 7,
     "metadata": {},
     "output_type": "execute_result"
    }
   ],
   "source": [
    "dataset['aspect_sents'][3]"
   ]
  },
  {
   "cell_type": "code",
   "execution_count": 8,
   "id": "41fd9e4e-359a-40c0-b001-69f6d01c0c7e",
   "metadata": {},
   "outputs": [
    {
     "data": {
      "text/plain": [
       "['The person whose cremated remains were buried in the grave could have been either a man or a woman, and is also called the \"Druid of Colchester\" (or the \"surgeon of Colchester\").']"
      ]
     },
     "execution_count": 8,
     "metadata": {},
     "output_type": "execute_result"
    }
   ],
   "source": [
    "dataset['summary'][3]"
   ]
  },
  {
   "cell_type": "code",
   "execution_count": null,
   "id": "9dbc15d2-7c4c-49a6-95b0-eb903a207ea0",
   "metadata": {},
   "outputs": [],
   "source": []
  }
 ],
 "metadata": {
  "kernelspec": {
   "display_name": "qfs",
   "language": "python",
   "name": "qfs"
  },
  "language_info": {
   "codemirror_mode": {
    "name": "ipython",
    "version": 3
   },
   "file_extension": ".py",
   "mimetype": "text/x-python",
   "name": "python",
   "nbconvert_exporter": "python",
   "pygments_lexer": "ipython3",
   "version": "3.8.18"
  }
 },
 "nbformat": 4,
 "nbformat_minor": 5
}
