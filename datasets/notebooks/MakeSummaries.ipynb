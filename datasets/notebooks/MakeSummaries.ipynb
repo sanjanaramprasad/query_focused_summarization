{
 "cells": [
  {
   "cell_type": "code",
   "execution_count": null,
   "id": "59c67ffd-17c1-4e6b-b70a-0d0bec5b2036",
   "metadata": {},
   "outputs": [],
   "source": [
    "import pandas as pd\n",
    "from modeling_gpt import GPTInference\n",
    "import time\n",
    "from tqdm import tqdm\n",
    "import tiktoken"
   ]
  },
  {
   "cell_type": "code",
   "execution_count": null,
   "id": "20416550-48ad-4fcd-8064-78fcc30407c2",
   "metadata": {},
   "outputs": [],
   "source": [
    "gpt_inference = GPTInference()\n",
    "def make_summaries(df):\n",
    "    tokenizer = tiktoken.encoding_for_model(\"gpt-3.5-turbo-16k-0613\")\n",
    "    instruction = \"Generate a summary for the following query. Ensure the summary is consistent with the article \"\n",
    "    summaries = []\n",
    "    for idx, row in tqdm(df.iterrows(), total=df.shape[0]):\n",
    "        try:\n",
    "            query = row['Query']\n",
    "            article = row['Article']\n",
    "            article = tokenizer.decode(tokenizer.encode(article)[:15000])\n",
    "            prompt = f'Article: {article}\\n{instruction}\\n{query}\\nSummary:'\n",
    "            summary = gpt_inference.get_chatgpt_response(prompt)\n",
    "            summaries += [summary]\n",
    "            time.sleep(4)\n",
    "        except:\n",
    "            print(prompt)\n",
    "            summaries += ['']\n",
    "            continue\n",
    "    return summaries"
   ]
  },
  {
   "cell_type": "code",
   "execution_count": null,
   "id": "9ae4d107-267a-40c4-be5d-58d1e68f94ad",
   "metadata": {},
   "outputs": [],
   "source": [
    "df_oasumm = pd.read_csv('/home/ramprasad.sa/qf_sd_summarization/datasets/postprocessed/aspect_focused/oasumm.csv')\n",
    "df_oasumm_sample = df_oasumm_sample[~df_oasumm_sample['Article'].isnull()]\n",
    "df_oasumm_sample = df_oasumm.sample(n=100)\n",
    "df_oasumm_sample.head()"
   ]
  },
  {
   "cell_type": "code",
   "execution_count": 1,
   "id": "eb53ff09-bec9-4879-b0d2-8281d8c8bb8d",
   "metadata": {},
   "outputs": [],
   "source": [
    "# df_oasumm_sample['Summary'] = make_summaries(df_oasumm_sample)"
   ]
  },
  {
   "cell_type": "code",
   "execution_count": null,
   "id": "09b85678-d78c-49a5-9ced-fef60295aca3",
   "metadata": {},
   "outputs": [],
   "source": [
    "df_oasumm_sample"
   ]
  },
  {
   "cell_type": "code",
   "execution_count": null,
   "id": "0026fa44-a206-4004-b366-20cd489ed2b2",
   "metadata": {},
   "outputs": [],
   "source": []
  }
 ],
 "metadata": {
  "kernelspec": {
   "display_name": "qfs",
   "language": "python",
   "name": "qfs"
  },
  "language_info": {
   "codemirror_mode": {
    "name": "ipython",
    "version": 3
   },
   "file_extension": ".py",
   "mimetype": "text/x-python",
   "name": "python",
   "nbconvert_exporter": "python",
   "pygments_lexer": "ipython3",
   "version": "3.8.18"
  }
 },
 "nbformat": 4,
 "nbformat_minor": 5
}
