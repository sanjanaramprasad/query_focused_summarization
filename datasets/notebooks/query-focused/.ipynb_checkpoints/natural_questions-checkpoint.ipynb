{
 "cells": [
  {
   "cell_type": "code",
   "execution_count": 63,
   "id": "c706b813-62c4-4a5f-ae2e-2cd353485a32",
   "metadata": {},
   "outputs": [],
   "source": [
    "from datasets import load_dataset\n",
    "import pandas as pd\n",
    "natural_questions =load_dataset(\"natural_questions\", split = \"validation\", cache_dir='/scratch/ramprasad.sa/huggingface_datasets')\n"
   ]
  },
  {
   "cell_type": "code",
   "execution_count": 64,
   "id": "b3ec946f-43cb-438e-bf21-d43d26a5576f",
   "metadata": {},
   "outputs": [],
   "source": [
    "# from collections import Counter\n",
    "# did = 40\n",
    "# datum = natural_questions[did]\n",
    "# docid = datum['id']\n",
    "# document = datum['document']\n",
    "# annotations = datum['annotations']\n",
    "# question = datum['question']['text']\n",
    "# html_tokens = datum['document']['tokens']['is_html']\n",
    "# document_tokens = document['tokens']['token']\n",
    "# document = ' '.join([each for idx, each in enumerate(document['tokens']['token']) \n",
    "#                 if not html_tokens[idx]])\n",
    "# long_answer_candidates = [each['candidate_index'] for each in annotations['long_answer']]\n",
    "# short_answer_candidates = [idx for idx, each in enumerate(annotations['short_answers']) if each['start_byte']]\n",
    "# most_common_long_answer = Counter(long_answer_candidates).most_common()[0][0]\n",
    "\n",
    "# unique_long_answers = list(set(long_answer_candidates))\n",
    "# if (len(unique_long_answers) == 1 and unique_long_answers[0] == -1) and (not short_answer_candidates):\n",
    "#     print(question)\n",
    "# #     print(document)\n",
    "# long_answer_info = annotations['long_answer'][long_answer_candidates.index(most_common_long_answer)]\n",
    "# long_answer_idx = [i for i in range(long_answer_info['start_token'], long_answer_info['end_token']) if not html_tokens[i]\n",
    "#                   ]\n",
    "# # print(question, ' '.join([document_tokens[idx] for idx in long_answer_idx]))"
   ]
  },
  {
   "cell_type": "code",
   "execution_count": 59,
   "id": "026ab0b0-5c14-4124-903d-1dc1f4c363a5",
   "metadata": {},
   "outputs": [
    {
     "name": "stderr",
     "output_type": "stream",
     "text": [
      "100%|██████████| 7830/7830 [03:10<00:00, 41.09it/s]\n"
     ]
    }
   ],
   "source": [
    "from collections import Counter \n",
    "from tqdm import tqdm\n",
    "df_dict = {\n",
    "    'id': [],\n",
    "    'Article': [],\n",
    "    'Query': [],\n",
    "    'Long_Answer': [],\n",
    "    'Short_Answer': [],\n",
    "    'Faithful_Query': [],\n",
    "}\n",
    "\n",
    "\n",
    "def get_index(answer_candidates):\n",
    "    most_common_cand = Counter(answer_candidates).most_common()[0][0]\n",
    "#     print(most_common_cand, answer_candidates)\n",
    "    idx = answer_candidates.index(most_common_cand)\n",
    "    return idx \n",
    "\n",
    "for datum in tqdm(natural_questions):\n",
    "    docid = datum['id']\n",
    "    document = datum['document']\n",
    "    annotations = datum['annotations']\n",
    "    question = datum['question']['text']\n",
    "    html_tokens = datum['document']['tokens']['is_html']\n",
    "    document_tokens = document['tokens']['token']\n",
    "    answerability = 'yes'\n",
    "\n",
    "    document = ' '.join([each for idx, each in enumerate(document['tokens']['token']) \n",
    "                    if not html_tokens[idx]])\n",
    "    long_answer_candidates = [each['candidate_index'] for each in annotations['long_answer']]\n",
    "    unique_long_answers = list(set(long_answer_candidates))\n",
    "    short_answer_candidates = [each['start_byte'][0] for idx, each in enumerate(annotations['short_answers']) if each['start_byte']]\n",
    "    short_answer_text = ''\n",
    "#     print(long_answer_candidates)\n",
    "    \n",
    "    most_common_long_answer = get_index(long_answer_candidates)\n",
    "    long_answer_info = annotations['long_answer'][most_common_long_answer]\n",
    "    long_answer_text = ' '.join([document_tokens[i] for i in range(long_answer_info['start_token'], long_answer_info['end_token']) if not html_tokens[i]\n",
    "                      ])\n",
    "    if short_answer_candidates:\n",
    "        most_common_short_answer = get_index(short_answer_candidates)\n",
    "    \n",
    "#         print(short_answer_candidates, Counter(short_answer_candidates).most_common())\n",
    "        if annotations['short_answers'][most_common_short_answer]['start_token']:\n",
    "            short_answer_start_token = annotations['short_answers'][most_common_short_answer]['start_token'][0]\n",
    "            short_answer_end_token = annotations['short_answers'][most_common_short_answer]['end_token'][0]\n",
    "            short_answer_text = ' '.join([document_tokens[i] for i in range(short_answer_start_token, short_answer_end_token) if not html_tokens[i]\n",
    "                          ])\n",
    "\n",
    "    if (len(unique_long_answers) == 1 and unique_long_answers[0] == -1) and (not short_answer_candidates):\n",
    "        answerability = 'no'\n",
    "\n",
    "    df_dict['id'] += [docid]\n",
    "    df_dict['Article'] += [document]\n",
    "    df_dict['Query'] += [question]\n",
    "    df_dict['Long_Answer'] += [long_answer_text]\n",
    "    df_dict['Short_Answer'] += [short_answer_text]\n",
    "    df_dict['Faithful_Query'] += [answerability]"
   ]
  },
  {
   "cell_type": "code",
   "execution_count": 61,
   "id": "17b8a146-51b5-485b-a9bd-df97788f7586",
   "metadata": {},
   "outputs": [],
   "source": [
    "df_nq = pd.DataFrame(df_dict)"
   ]
  },
  {
   "cell_type": "code",
   "execution_count": 62,
   "id": "fc9b5f57-5cc3-49aa-9dec-f9f3a26916df",
   "metadata": {},
   "outputs": [],
   "source": [
    "df_nq.to_csv('/home/ramprasad.sa/qf_sd_summarization/datasets/postprocessed/query_focused/natural_questions.csv')"
   ]
  },
  {
   "cell_type": "code",
   "execution_count": null,
   "id": "825f6271-5b92-45fc-ad96-494831f42504",
   "metadata": {},
   "outputs": [],
   "source": []
  }
 ],
 "metadata": {
  "kernelspec": {
   "display_name": "qfs",
   "language": "python",
   "name": "qfs"
  },
  "language_info": {
   "codemirror_mode": {
    "name": "ipython",
    "version": 3
   },
   "file_extension": ".py",
   "mimetype": "text/x-python",
   "name": "python",
   "nbconvert_exporter": "python",
   "pygments_lexer": "ipython3",
   "version": "3.8.18"
  }
 },
 "nbformat": 4,
 "nbformat_minor": 5
}
