{
 "cells": [
  {
   "cell_type": "code",
   "execution_count": 54,
   "id": "ea3daba4-c7bf-409c-b39e-ab8047b32b5c",
   "metadata": {
    "tags": []
   },
   "outputs": [],
   "source": [
    "from datasets import load_dataset\n",
    "import pandas as pd \n",
    "\n",
    "dataset = load_dataset(\"pszemraj/SQuALITY-v1.3\", split = \"test\", cache_dir='/scratch/ramprasad.sa/huggingface_datasets'\n",
    "                      )\n",
    "\n"
   ]
  },
  {
   "cell_type": "code",
   "execution_count": 60,
   "id": "61b80697-4535-4067-9db1-2e32cf320006",
   "metadata": {
    "tags": []
   },
   "outputs": [],
   "source": [
    "from collections import Counter \n",
    "from tqdm import tqdm\n",
    "df_dict = {\n",
    "    'id': [],\n",
    "    'Article': [],\n",
    "    'Query': [],\n",
    "    'Answers': [],\n",
    "    'Faithful_Query': [],\n",
    "}\n",
    "# for quest_info in dataset[0]['questions']:\n",
    "#     print(quest_info['question_text'])\n",
    "#     # for res in quest_info['responses']:\n",
    "#         # print(res['response_text'])\n",
    "    "
   ]
  },
  {
   "cell_type": "code",
   "execution_count": 61,
   "id": "e2e3da48-04e0-4bfd-af72-2479880b83e0",
   "metadata": {
    "tags": []
   },
   "outputs": [
    {
     "name": "stderr",
     "output_type": "stream",
     "text": [
      "100%|███████████████████████████████████████████████████████████████████████████████████████████████████████████████████████████████████████████████████████████████████████████████| 52/52 [00:00<00:00, 2595.24it/s]\n"
     ]
    }
   ],
   "source": [
    "for datum in tqdm(dataset):\n",
    "    docid = datum['metadata']['uid']\n",
    "    document = datum['document']\n",
    "    for quest_info in datum['questions']:\n",
    "        query = quest_info['question_text']\n",
    "        # print(quest_info['responses'])\n",
    "        answers = [res['response_text'] for res in quest_info['responses']]\n",
    "        df_dict['id'] += [docid]\n",
    "        df_dict['Article'] += [document]\n",
    "        df_dict['Query'] += [query]\n",
    "        df_dict['Answers'].append(answers)\n",
    "        df_dict['Faithful_Query'] += ['yes']\n",
    "    "
   ]
  },
  {
   "cell_type": "code",
   "execution_count": 65,
   "id": "a29ed832-44ea-4348-9f14-5c59341368bf",
   "metadata": {
    "tags": []
   },
   "outputs": [],
   "source": [
    "df = pd.DataFrame(df_dict)"
   ]
  },
  {
   "cell_type": "code",
   "execution_count": 66,
   "id": "76f89058-8d5a-4544-8a90-47c55792e719",
   "metadata": {
    "tags": []
   },
   "outputs": [],
   "source": [
    "df.to_csv('/home/ramprasad.sa/qf_sd_summarization/datasets/postprocessed/query_focused/squality.csv')\n"
   ]
  },
  {
   "cell_type": "code",
   "execution_count": null,
   "id": "84799d71-ba03-4035-aacd-f85da1e245f4",
   "metadata": {},
   "outputs": [],
   "source": []
  }
 ],
 "metadata": {
  "kernelspec": {
   "display_name": "qfs",
   "language": "python",
   "name": "qfs"
  },
  "language_info": {
   "codemirror_mode": {
    "name": "ipython",
    "version": 3
   },
   "file_extension": ".py",
   "mimetype": "text/x-python",
   "name": "python",
   "nbconvert_exporter": "python",
   "pygments_lexer": "ipython3",
   "version": "3.8.18"
  }
 },
 "nbformat": 4,
 "nbformat_minor": 5
}
