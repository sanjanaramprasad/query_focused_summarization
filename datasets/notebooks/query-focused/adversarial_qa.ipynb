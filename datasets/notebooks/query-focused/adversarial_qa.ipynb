{
 "cells": [
  {
   "cell_type": "code",
   "execution_count": 24,
   "id": "1d6b6aa7-d550-45fc-95c1-745d8eaeece0",
   "metadata": {
    "tags": []
   },
   "outputs": [],
   "source": [
    "from datasets import load_dataset\n",
    "import pandas as pd\n",
    "from collections import Counter \n",
    "from tqdm import tqdm\n",
    "\n",
    "dataset = load_dataset(\"adversarial_qa\", 'adversarialQA', cache_dir='/scratch/ramprasad.sa/huggingface_datasets'\n",
    "                      )"
   ]
  },
  {
   "cell_type": "code",
   "execution_count": 25,
   "id": "96a03857-4bae-417e-88cf-d9ec6f7b9938",
   "metadata": {
    "tags": []
   },
   "outputs": [],
   "source": [
    "dataset_test = dataset['test']\n",
    "datum = dataset_test[3]"
   ]
  },
  {
   "cell_type": "code",
   "execution_count": 26,
   "id": "3fa2bb11-db44-44c4-a844-26dd1549aef1",
   "metadata": {
    "tags": []
   },
   "outputs": [
    {
     "data": {
      "text/plain": [
       "{'id': '8dcfa09835f74e8faa3ccf4138201afbc98dcecc',\n",
       " 'title': 'Civil_disobedience',\n",
       " 'context': 'There have been debates as to whether civil disobedience must necessarily be non-violent. Black\\'s Law Dictionary includes non-violence in its definition of civil disobedience. Christian Bay\\'s encyclopedia article states that civil disobedience requires \"carefully chosen and legitimate means,\" but holds that they do not have to be non-violent. It has been argued that, while both civil disobedience and civil rebellion are justified by appeal to constitutional defects, rebellion is much more destructive; therefore, the defects justifying rebellion must be much more serious than those justifying disobedience, and if one cannot justify civil rebellion, then one cannot justify a civil disobedients\\' use of force and violence and refusal to submit to arrest. Civil disobedients\\' refraining from violence is also said to help preserve society\\'s tolerance of civil disobedience.',\n",
       " 'question': \"What reference book's definition of civil disobedience allows for violence?\",\n",
       " 'answers': {'text': [], 'answer_start': []},\n",
       " 'metadata': {'split': 'test', 'model_in_the_loop': 'Combined'}}"
      ]
     },
     "execution_count": 26,
     "metadata": {},
     "output_type": "execute_result"
    }
   ],
   "source": [
    "datum"
   ]
  },
  {
   "cell_type": "code",
   "execution_count": 27,
   "id": "91a5de77-1305-4d11-9fe6-b462f4f3393d",
   "metadata": {
    "tags": []
   },
   "outputs": [],
   "source": [
    "\n",
    "df_dict = {\n",
    "    'id': [],\n",
    "    'Article': [],\n",
    "    'Query': [],\n",
    "    'Answers': [],\n",
    "    'Faithful_Query': [],\n",
    "}\n",
    "\n",
    "for datum in dataset_test:\n",
    "    docid = datum['id']\n",
    "    document = datum['context']\n",
    "    query = datum['question']\n",
    "    answer = None\n",
    "    \n",
    "    df_dict['id'] += [docid]\n",
    "    df_dict['Article'] += [document]\n",
    "    df_dict['Query'] += [query]\n",
    "    df_dict['Answers'] += [answer]\n",
    "    df_dict['Faithful_Query'] += ['yes']\n",
    "    \n",
    "    "
   ]
  },
  {
   "cell_type": "code",
   "execution_count": 28,
   "id": "4339d09c-42a0-44c3-9eea-446c71a11a44",
   "metadata": {
    "tags": []
   },
   "outputs": [
    {
     "data": {
      "text/html": [
       "<div>\n",
       "<style scoped>\n",
       "    .dataframe tbody tr th:only-of-type {\n",
       "        vertical-align: middle;\n",
       "    }\n",
       "\n",
       "    .dataframe tbody tr th {\n",
       "        vertical-align: top;\n",
       "    }\n",
       "\n",
       "    .dataframe thead th {\n",
       "        text-align: right;\n",
       "    }\n",
       "</style>\n",
       "<table border=\"1\" class=\"dataframe\">\n",
       "  <thead>\n",
       "    <tr style=\"text-align: right;\">\n",
       "      <th></th>\n",
       "      <th>id</th>\n",
       "      <th>Article</th>\n",
       "      <th>Query</th>\n",
       "      <th>Answers</th>\n",
       "      <th>Faithful_Query</th>\n",
       "    </tr>\n",
       "  </thead>\n",
       "  <tbody>\n",
       "    <tr>\n",
       "      <th>0</th>\n",
       "      <td>fa2b68a340fa4292aa491e02a1498e26798c8402</td>\n",
       "      <td>There have been debates as to whether civil di...</td>\n",
       "      <td>What encyclopedia article is referenced in thi...</td>\n",
       "      <td>None</td>\n",
       "      <td>yes</td>\n",
       "    </tr>\n",
       "    <tr>\n",
       "      <th>1</th>\n",
       "      <td>4964a272f7efa8b3b57e631a25233b71cd4e4f65</td>\n",
       "      <td>There have been debates as to whether civil di...</td>\n",
       "      <td>How is civil disobedience different than civil...</td>\n",
       "      <td>None</td>\n",
       "      <td>yes</td>\n",
       "    </tr>\n",
       "    <tr>\n",
       "      <th>2</th>\n",
       "      <td>2fa201540ebac258dc52f13cd79d33783dc97276</td>\n",
       "      <td>There have been debates as to whether civil di...</td>\n",
       "      <td>What collection of definitions for words is me...</td>\n",
       "      <td>None</td>\n",
       "      <td>yes</td>\n",
       "    </tr>\n",
       "    <tr>\n",
       "      <th>3</th>\n",
       "      <td>8dcfa09835f74e8faa3ccf4138201afbc98dcecc</td>\n",
       "      <td>There have been debates as to whether civil di...</td>\n",
       "      <td>What reference book's definition of civil diso...</td>\n",
       "      <td>None</td>\n",
       "      <td>yes</td>\n",
       "    </tr>\n",
       "    <tr>\n",
       "      <th>4</th>\n",
       "      <td>26b77c4908b905cd114ff98a0acfa2556bf6070f</td>\n",
       "      <td>There have been debates as to whether civil di...</td>\n",
       "      <td>What type of discussion has taken place about ...</td>\n",
       "      <td>None</td>\n",
       "      <td>yes</td>\n",
       "    </tr>\n",
       "    <tr>\n",
       "      <th>...</th>\n",
       "      <td>...</td>\n",
       "      <td>...</td>\n",
       "      <td>...</td>\n",
       "      <td>...</td>\n",
       "      <td>...</td>\n",
       "    </tr>\n",
       "    <tr>\n",
       "      <th>2995</th>\n",
       "      <td>4a1a3c1d4aedd7a5f5acfc2f0b14adefe76e94dc</td>\n",
       "      <td>The historian Francis Aidan Gasquet wrote abou...</td>\n",
       "      <td>What did Gasquet do for the second edition?</td>\n",
       "      <td>None</td>\n",
       "      <td>yes</td>\n",
       "    </tr>\n",
       "    <tr>\n",
       "      <th>2996</th>\n",
       "      <td>c1032b49e6b3073e14cfdecf003252982c0030a9</td>\n",
       "      <td>The historian Francis Aidan Gasquet wrote abou...</td>\n",
       "      <td>What does the word 'He' refer to in the second...</td>\n",
       "      <td>None</td>\n",
       "      <td>yes</td>\n",
       "    </tr>\n",
       "    <tr>\n",
       "      <th>2997</th>\n",
       "      <td>cd6ddafaf0c01945836b0a2add6d75830477ce6f</td>\n",
       "      <td>The historian Francis Aidan Gasquet wrote abou...</td>\n",
       "      <td>What caused the Justinian plague?</td>\n",
       "      <td>None</td>\n",
       "      <td>yes</td>\n",
       "    </tr>\n",
       "    <tr>\n",
       "      <th>2998</th>\n",
       "      <td>0dba632ef2c5c0084490db277d72622fbf6f27f6</td>\n",
       "      <td>The historian Francis Aidan Gasquet wrote abou...</td>\n",
       "      <td>What mammal contributed to the plague?</td>\n",
       "      <td>None</td>\n",
       "      <td>yes</td>\n",
       "    </tr>\n",
       "    <tr>\n",
       "      <th>2999</th>\n",
       "      <td>d43fba6917c27a67ebea7739f789682231cce53e</td>\n",
       "      <td>The historian Francis Aidan Gasquet wrote abou...</td>\n",
       "      <td>What kind of event is the plague?</td>\n",
       "      <td>None</td>\n",
       "      <td>yes</td>\n",
       "    </tr>\n",
       "  </tbody>\n",
       "</table>\n",
       "<p>3000 rows × 5 columns</p>\n",
       "</div>"
      ],
      "text/plain": [
       "                                            id  \\\n",
       "0     fa2b68a340fa4292aa491e02a1498e26798c8402   \n",
       "1     4964a272f7efa8b3b57e631a25233b71cd4e4f65   \n",
       "2     2fa201540ebac258dc52f13cd79d33783dc97276   \n",
       "3     8dcfa09835f74e8faa3ccf4138201afbc98dcecc   \n",
       "4     26b77c4908b905cd114ff98a0acfa2556bf6070f   \n",
       "...                                        ...   \n",
       "2995  4a1a3c1d4aedd7a5f5acfc2f0b14adefe76e94dc   \n",
       "2996  c1032b49e6b3073e14cfdecf003252982c0030a9   \n",
       "2997  cd6ddafaf0c01945836b0a2add6d75830477ce6f   \n",
       "2998  0dba632ef2c5c0084490db277d72622fbf6f27f6   \n",
       "2999  d43fba6917c27a67ebea7739f789682231cce53e   \n",
       "\n",
       "                                                Article  \\\n",
       "0     There have been debates as to whether civil di...   \n",
       "1     There have been debates as to whether civil di...   \n",
       "2     There have been debates as to whether civil di...   \n",
       "3     There have been debates as to whether civil di...   \n",
       "4     There have been debates as to whether civil di...   \n",
       "...                                                 ...   \n",
       "2995  The historian Francis Aidan Gasquet wrote abou...   \n",
       "2996  The historian Francis Aidan Gasquet wrote abou...   \n",
       "2997  The historian Francis Aidan Gasquet wrote abou...   \n",
       "2998  The historian Francis Aidan Gasquet wrote abou...   \n",
       "2999  The historian Francis Aidan Gasquet wrote abou...   \n",
       "\n",
       "                                                  Query Answers Faithful_Query  \n",
       "0     What encyclopedia article is referenced in thi...    None            yes  \n",
       "1     How is civil disobedience different than civil...    None            yes  \n",
       "2     What collection of definitions for words is me...    None            yes  \n",
       "3     What reference book's definition of civil diso...    None            yes  \n",
       "4     What type of discussion has taken place about ...    None            yes  \n",
       "...                                                 ...     ...            ...  \n",
       "2995        What did Gasquet do for the second edition?    None            yes  \n",
       "2996  What does the word 'He' refer to in the second...    None            yes  \n",
       "2997                  What caused the Justinian plague?    None            yes  \n",
       "2998             What mammal contributed to the plague?    None            yes  \n",
       "2999                  What kind of event is the plague?    None            yes  \n",
       "\n",
       "[3000 rows x 5 columns]"
      ]
     },
     "execution_count": 28,
     "metadata": {},
     "output_type": "execute_result"
    }
   ],
   "source": [
    "df = pd.DataFrame(df_dict)\n",
    "df"
   ]
  },
  {
   "cell_type": "code",
   "execution_count": 29,
   "id": "b9a56e3b-ba36-41ff-93ce-b7134ff2098a",
   "metadata": {
    "tags": []
   },
   "outputs": [],
   "source": [
    "df.to_csv('/home/ramprasad.sa/qf_sd_summarization/datasets/postprocessed/query_focused/adversarial_qa.csv')"
   ]
  },
  {
   "cell_type": "code",
   "execution_count": null,
   "id": "75fd2740-71f4-44d1-b8d0-0994848b022d",
   "metadata": {},
   "outputs": [],
   "source": []
  }
 ],
 "metadata": {
  "kernelspec": {
   "display_name": "qfs",
   "language": "python",
   "name": "qfs"
  },
  "language_info": {
   "codemirror_mode": {
    "name": "ipython",
    "version": 3
   },
   "file_extension": ".py",
   "mimetype": "text/x-python",
   "name": "python",
   "nbconvert_exporter": "python",
   "pygments_lexer": "ipython3",
   "version": "3.8.18"
  }
 },
 "nbformat": 4,
 "nbformat_minor": 5
}
